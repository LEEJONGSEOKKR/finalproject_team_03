{
 "cells": [
  {
   "cell_type": "code",
   "execution_count": 2,
   "id": "c58a2642-bc61-4023-8d49-293c53550062",
   "metadata": {
    "collapsed": true,
    "jupyter": {
     "outputs_hidden": true
    },
    "tags": []
   },
   "outputs": [
    {
     "name": "stdout",
     "output_type": "stream",
     "text": [
      "Collecting tensorflow\n",
      "  Using cached tensorflow-2.7.0-cp38-cp38-win_amd64.whl (430.8 MB)\n",
      "Requirement already satisfied: astunparse>=1.6.0 in c:\\users\\admin\\anaconda3\\lib\\site-packages (from tensorflow) (1.6.3)\n",
      "Requirement already satisfied: tensorflow-io-gcs-filesystem>=0.21.0 in c:\\users\\admin\\anaconda3\\lib\\site-packages (from tensorflow) (0.21.0)\n",
      "Requirement already satisfied: wrapt>=1.11.0 in c:\\users\\admin\\anaconda3\\lib\\site-packages (from tensorflow) (1.12.1)\n",
      "Requirement already satisfied: gast<0.5.0,>=0.2.1 in c:\\users\\admin\\anaconda3\\lib\\site-packages (from tensorflow) (0.4.0)\n",
      "Requirement already satisfied: protobuf>=3.9.2 in c:\\users\\admin\\anaconda3\\lib\\site-packages (from tensorflow) (3.19.1)\n",
      "Requirement already satisfied: numpy>=1.14.5 in c:\\users\\admin\\anaconda3\\lib\\site-packages (from tensorflow) (1.21.2)\n",
      "Requirement already satisfied: grpcio<2.0,>=1.24.3 in c:\\users\\admin\\anaconda3\\lib\\site-packages (from tensorflow) (1.41.1)\n",
      "Requirement already satisfied: libclang>=9.0.1 in c:\\users\\admin\\anaconda3\\lib\\site-packages (from tensorflow) (12.0.0)\n",
      "Requirement already satisfied: tensorflow-estimator<2.8,~=2.7.0rc0 in c:\\users\\admin\\anaconda3\\lib\\site-packages (from tensorflow) (2.7.0)\n",
      "Requirement already satisfied: tensorboard~=2.6 in c:\\users\\admin\\anaconda3\\lib\\site-packages (from tensorflow) (2.7.0)\n",
      "Requirement already satisfied: keras<2.8,>=2.7.0rc0 in c:\\users\\admin\\anaconda3\\lib\\site-packages (from tensorflow) (2.7.0)\n",
      "Requirement already satisfied: termcolor>=1.1.0 in c:\\users\\admin\\anaconda3\\lib\\site-packages (from tensorflow) (1.1.0)\n",
      "Requirement already satisfied: wheel<1.0,>=0.32.0 in c:\\users\\admin\\anaconda3\\lib\\site-packages (from tensorflow) (0.37.0)\n",
      "Requirement already satisfied: opt-einsum>=2.3.2 in c:\\users\\admin\\anaconda3\\lib\\site-packages (from tensorflow) (3.3.0)\n",
      "Requirement already satisfied: absl-py>=0.4.0 in c:\\users\\admin\\anaconda3\\lib\\site-packages (from tensorflow) (0.15.0)\n",
      "Requirement already satisfied: six>=1.12.0 in c:\\users\\admin\\anaconda3\\lib\\site-packages (from tensorflow) (1.16.0)\n",
      "Requirement already satisfied: flatbuffers<3.0,>=1.12 in c:\\users\\admin\\anaconda3\\lib\\site-packages (from tensorflow) (2.0)\n",
      "Requirement already satisfied: typing-extensions>=3.6.6 in c:\\users\\admin\\anaconda3\\lib\\site-packages (from tensorflow) (3.10.0.2)\n",
      "Requirement already satisfied: h5py>=2.9.0 in c:\\users\\admin\\anaconda3\\lib\\site-packages (from tensorflow) (2.10.0)\n",
      "Requirement already satisfied: google-pasta>=0.1.1 in c:\\users\\admin\\anaconda3\\lib\\site-packages (from tensorflow) (0.2.0)\n",
      "Requirement already satisfied: keras-preprocessing>=1.1.1 in c:\\users\\admin\\anaconda3\\lib\\site-packages (from tensorflow) (1.1.2)\n",
      "Requirement already satisfied: google-auth-oauthlib<0.5,>=0.4.1 in c:\\users\\admin\\anaconda3\\lib\\site-packages (from tensorboard~=2.6->tensorflow) (0.4.6)\n",
      "Requirement already satisfied: setuptools>=41.0.0 in c:\\users\\admin\\anaconda3\\lib\\site-packages (from tensorboard~=2.6->tensorflow) (58.0.4)\n",
      "Requirement already satisfied: tensorboard-data-server<0.7.0,>=0.6.0 in c:\\users\\admin\\anaconda3\\lib\\site-packages (from tensorboard~=2.6->tensorflow) (0.6.1)\n",
      "Requirement already satisfied: markdown>=2.6.8 in c:\\users\\admin\\anaconda3\\lib\\site-packages (from tensorboard~=2.6->tensorflow) (3.3.4)\n",
      "Requirement already satisfied: tensorboard-plugin-wit>=1.6.0 in c:\\users\\admin\\anaconda3\\lib\\site-packages (from tensorboard~=2.6->tensorflow) (1.8.0)\n",
      "Requirement already satisfied: google-auth<3,>=1.6.3 in c:\\users\\admin\\anaconda3\\lib\\site-packages (from tensorboard~=2.6->tensorflow) (2.3.3)\n",
      "Requirement already satisfied: werkzeug>=0.11.15 in c:\\users\\admin\\anaconda3\\lib\\site-packages (from tensorboard~=2.6->tensorflow) (2.0.2)\n",
      "Requirement already satisfied: requests<3,>=2.21.0 in c:\\users\\admin\\anaconda3\\lib\\site-packages (from tensorboard~=2.6->tensorflow) (2.26.0)\n",
      "Requirement already satisfied: pyasn1-modules>=0.2.1 in c:\\users\\admin\\anaconda3\\lib\\site-packages (from google-auth<3,>=1.6.3->tensorboard~=2.6->tensorflow) (0.2.8)\n",
      "Requirement already satisfied: rsa<5,>=3.1.4 in c:\\users\\admin\\anaconda3\\lib\\site-packages (from google-auth<3,>=1.6.3->tensorboard~=2.6->tensorflow) (4.7.2)\n",
      "Requirement already satisfied: cachetools<5.0,>=2.0.0 in c:\\users\\admin\\anaconda3\\lib\\site-packages (from google-auth<3,>=1.6.3->tensorboard~=2.6->tensorflow) (4.2.4)\n",
      "Requirement already satisfied: requests-oauthlib>=0.7.0 in c:\\users\\admin\\anaconda3\\lib\\site-packages (from google-auth-oauthlib<0.5,>=0.4.1->tensorboard~=2.6->tensorflow) (1.3.0)\n",
      "Requirement already satisfied: pyasn1<0.5.0,>=0.4.6 in c:\\users\\admin\\anaconda3\\lib\\site-packages (from pyasn1-modules>=0.2.1->google-auth<3,>=1.6.3->tensorboard~=2.6->tensorflow) (0.4.8)\n",
      "Requirement already satisfied: urllib3<1.27,>=1.21.1 in c:\\users\\admin\\anaconda3\\lib\\site-packages (from requests<3,>=2.21.0->tensorboard~=2.6->tensorflow) (1.26.7)\n",
      "Requirement already satisfied: idna<4,>=2.5 in c:\\users\\admin\\anaconda3\\lib\\site-packages (from requests<3,>=2.21.0->tensorboard~=2.6->tensorflow) (3.2)\n",
      "Requirement already satisfied: charset-normalizer~=2.0.0 in c:\\users\\admin\\anaconda3\\lib\\site-packages (from requests<3,>=2.21.0->tensorboard~=2.6->tensorflow) (2.0.4)\n",
      "Requirement already satisfied: certifi>=2017.4.17 in c:\\users\\admin\\anaconda3\\lib\\site-packages (from requests<3,>=2.21.0->tensorboard~=2.6->tensorflow) (2021.10.8)\n",
      "Requirement already satisfied: oauthlib>=3.0.0 in c:\\users\\admin\\anaconda3\\lib\\site-packages (from requests-oauthlib>=0.7.0->google-auth-oauthlib<0.5,>=0.4.1->tensorboard~=2.6->tensorflow) (3.1.1)\n",
      "Installing collected packages: tensorflow\n",
      "Successfully installed tensorflow-2.7.0\n"
     ]
    }
   ],
   "source": [
    "!pip install tensorflow\n"
   ]
  },
  {
   "cell_type": "markdown",
   "id": "a2277226-2ec8-42fe-af5c-c4d11dcb42bd",
   "metadata": {},
   "source": [
    "# 실패"
   ]
  },
  {
   "cell_type": "code",
   "execution_count": 3,
   "id": "06d15d3a-9396-48c9-826e-0fabe90f26b7",
   "metadata": {},
   "outputs": [],
   "source": [
    "import FinanceDataReader as fdr #주식데이터 불러오기\n",
    "import OpenDartReader # 주식데이터 openapi 사용툴\n",
    "import pandas as pd # 데이터저장\n",
    "import matplotlib as mpl # 시각화\n",
    "import matplotlib.pyplot as plt # 시각화\n",
    "import matplotlib.font_manager as fm # 한글폰트 적용\n",
    "import seaborn as sns # 시각화\n",
    "import numpy as np\n",
    "import tensorflow.compat.v1 as tf # 2버전 사용시 placehoder 사용못하게 되어 1버전으로 변경\n",
    "\n",
    "font_path = r'C:\\Windows\\Fonts\\NanumBarunGothic.ttf' # 한글폰트 경로"
   ]
  },
  {
   "cell_type": "code",
   "execution_count": 4,
   "id": "e6f1b3dc-7a6a-40cb-9e75-0a1a8e192e50",
   "metadata": {},
   "outputs": [],
   "source": [
    "import warnings\n",
    "warnings.filterwarnings('ignore')\n",
    "#오류 제거"
   ]
  },
  {
   "cell_type": "code",
   "execution_count": null,
   "id": "54b6c841-6076-43d5-9b5a-96ae3bdd6c1e",
   "metadata": {},
   "outputs": [],
   "source": []
  },
  {
   "cell_type": "code",
   "execution_count": 9,
   "id": "6f469866-72e9-4cf4-a67b-3bf483fffaae",
   "metadata": {},
   "outputs": [
    {
     "data": {
      "text/html": [
       "<div>\n",
       "<style scoped>\n",
       "    .dataframe tbody tr th:only-of-type {\n",
       "        vertical-align: middle;\n",
       "    }\n",
       "\n",
       "    .dataframe tbody tr th {\n",
       "        vertical-align: top;\n",
       "    }\n",
       "\n",
       "    .dataframe thead th {\n",
       "        text-align: right;\n",
       "    }\n",
       "</style>\n",
       "<table border=\"1\" class=\"dataframe\">\n",
       "  <thead>\n",
       "    <tr style=\"text-align: right;\">\n",
       "      <th></th>\n",
       "      <th>Open</th>\n",
       "      <th>High</th>\n",
       "      <th>Low</th>\n",
       "      <th>Change</th>\n",
       "      <th>Close</th>\n",
       "      <th>Volume</th>\n",
       "    </tr>\n",
       "    <tr>\n",
       "      <th>Date</th>\n",
       "      <th></th>\n",
       "      <th></th>\n",
       "      <th></th>\n",
       "      <th></th>\n",
       "      <th></th>\n",
       "      <th></th>\n",
       "    </tr>\n",
       "  </thead>\n",
       "  <tbody>\n",
       "    <tr>\n",
       "      <th>2019-01-02</th>\n",
       "      <td>39400</td>\n",
       "      <td>39400</td>\n",
       "      <td>38550</td>\n",
       "      <td>0.001292</td>\n",
       "      <td>38750</td>\n",
       "      <td>7847664</td>\n",
       "    </tr>\n",
       "    <tr>\n",
       "      <th>2019-01-03</th>\n",
       "      <td>38300</td>\n",
       "      <td>38550</td>\n",
       "      <td>37450</td>\n",
       "      <td>-0.029677</td>\n",
       "      <td>37600</td>\n",
       "      <td>12471493</td>\n",
       "    </tr>\n",
       "    <tr>\n",
       "      <th>2019-01-04</th>\n",
       "      <td>37450</td>\n",
       "      <td>37600</td>\n",
       "      <td>36850</td>\n",
       "      <td>-0.003989</td>\n",
       "      <td>37450</td>\n",
       "      <td>14108958</td>\n",
       "    </tr>\n",
       "    <tr>\n",
       "      <th>2019-01-07</th>\n",
       "      <td>38000</td>\n",
       "      <td>38900</td>\n",
       "      <td>37800</td>\n",
       "      <td>0.034713</td>\n",
       "      <td>38750</td>\n",
       "      <td>12748997</td>\n",
       "    </tr>\n",
       "    <tr>\n",
       "      <th>2019-01-08</th>\n",
       "      <td>38000</td>\n",
       "      <td>39200</td>\n",
       "      <td>37950</td>\n",
       "      <td>-0.016774</td>\n",
       "      <td>38100</td>\n",
       "      <td>12756554</td>\n",
       "    </tr>\n",
       "    <tr>\n",
       "      <th>...</th>\n",
       "      <td>...</td>\n",
       "      <td>...</td>\n",
       "      <td>...</td>\n",
       "      <td>...</td>\n",
       "      <td>...</td>\n",
       "      <td>...</td>\n",
       "    </tr>\n",
       "    <tr>\n",
       "      <th>2021-11-04</th>\n",
       "      <td>71200</td>\n",
       "      <td>71600</td>\n",
       "      <td>70500</td>\n",
       "      <td>0.002841</td>\n",
       "      <td>70600</td>\n",
       "      <td>11818987</td>\n",
       "    </tr>\n",
       "    <tr>\n",
       "      <th>2021-11-05</th>\n",
       "      <td>71600</td>\n",
       "      <td>71600</td>\n",
       "      <td>70200</td>\n",
       "      <td>-0.005666</td>\n",
       "      <td>70200</td>\n",
       "      <td>12667743</td>\n",
       "    </tr>\n",
       "    <tr>\n",
       "      <th>2021-11-08</th>\n",
       "      <td>70400</td>\n",
       "      <td>70600</td>\n",
       "      <td>69800</td>\n",
       "      <td>0.005698</td>\n",
       "      <td>70600</td>\n",
       "      <td>11121981</td>\n",
       "    </tr>\n",
       "    <tr>\n",
       "      <th>2021-11-09</th>\n",
       "      <td>70300</td>\n",
       "      <td>71000</td>\n",
       "      <td>70100</td>\n",
       "      <td>-0.001416</td>\n",
       "      <td>70500</td>\n",
       "      <td>11159589</td>\n",
       "    </tr>\n",
       "    <tr>\n",
       "      <th>2021-11-10</th>\n",
       "      <td>70300</td>\n",
       "      <td>70900</td>\n",
       "      <td>70200</td>\n",
       "      <td>-0.004255</td>\n",
       "      <td>70200</td>\n",
       "      <td>9377109</td>\n",
       "    </tr>\n",
       "  </tbody>\n",
       "</table>\n",
       "<p>706 rows × 6 columns</p>\n",
       "</div>"
      ],
      "text/plain": [
       "             Open   High    Low    Change  Close    Volume\n",
       "Date                                                      \n",
       "2019-01-02  39400  39400  38550  0.001292  38750   7847664\n",
       "2019-01-03  38300  38550  37450 -0.029677  37600  12471493\n",
       "2019-01-04  37450  37600  36850 -0.003989  37450  14108958\n",
       "2019-01-07  38000  38900  37800  0.034713  38750  12748997\n",
       "2019-01-08  38000  39200  37950 -0.016774  38100  12756554\n",
       "...           ...    ...    ...       ...    ...       ...\n",
       "2021-11-04  71200  71600  70500  0.002841  70600  11818987\n",
       "2021-11-05  71600  71600  70200 -0.005666  70200  12667743\n",
       "2021-11-08  70400  70600  69800  0.005698  70600  11121981\n",
       "2021-11-09  70300  71000  70100 -0.001416  70500  11159589\n",
       "2021-11-10  70300  70900  70200 -0.004255  70200   9377109\n",
       "\n",
       "[706 rows x 6 columns]"
      ]
     },
     "execution_count": 9,
     "metadata": {},
     "output_type": "execute_result"
    }
   ],
   "source": [
    "df = fdr.DataReader(symbol='005930',start='2019')  \n",
    "# symbol : 종목코드 , 무조건 6자리 사용\n",
    "# 시작점 미설정시 : 상장일부터\n",
    "# 종료점 미설정시 : 현재일까지\n",
    "df = df[['Open','High','Low','Change','Close','Volume']]  # 계산을 편리성을 위해  종가,거래량을 맨뒤로 보냄(칼럼 재배치)\n",
    "df"
   ]
  },
  {
   "cell_type": "code",
   "execution_count": 6,
   "id": "cb9ed767-1caa-475f-9598-1205fe2de57c",
   "metadata": {},
   "outputs": [],
   "source": [
    "# 정규화 함수\n",
    "def min_max_scaling(x):\n",
    "    x_np = np.asarray(x)\n",
    "    return (x_np - x_np.min()) / (x_np.max() - x_np.min() + 1e-7)  # 1e-7를 더하는 이유 : 0으로 나누는 오류 방지\n",
    "\n",
    "#역정규화 : 정규화된 값을 원래의 값으로 되돌림    => 딥러닝후 내일 예측값을 되돌릴때 사용\n",
    "def reverse_min_max_scaling(org_x,x): \n",
    "    org_x_np = np.asarray(org_x)\n",
    "    x_np = np.asarray(org_x)\n",
    "    return (x_np *(org_x_np.max()-org_x_np.min()+1e-7)) + org_x_np.min()"
   ]
  },
  {
   "cell_type": "code",
   "execution_count": 20,
   "id": "9553c3fb-a1d6-4aa8-b44b-9ab9fe98e021",
   "metadata": {},
   "outputs": [],
   "source": [
    "input_dcm_cnt = 6 # 입력데이터 칼럼 갯수\n",
    "output_dcm_cnt = 1 # 결과데이터 칼럼 갯수\n",
    "\n",
    "seq_length = 30 # 시계열데이터 입력갯수(시퀸스의 길이)\n",
    "rnn_cell_hidden_dim = 20 #각 셀의 히든 출력 크기\n",
    "\n",
    "forget_bias = 1.0 \n",
    "# 망각편향(= 시그모이드) : 셀 스테이트에서 어떤 값을 제어할지 선택하는 값\n",
    "# 0 일경우 예측에 영향을 주지않도록 버리며, 1일 경우  의미있는값으로 판단하여 셀 스테이트값에 넣어주는 형식\n",
    "# 셀 스테이트는 다이어그램 상단에 위치한 수평선이다. ( 진행 과정 \n",
    "\n",
    "num_df_layers = 1 \n",
    "# 층갯수\n",
    "\n",
    "keep_prob = 1.0\n",
    "# 유지확률\n",
    "epoch_num = 1000 #반복학습 횟수\n",
    "learning_rate = 0.01 # 학습률"
   ]
  },
  {
   "cell_type": "code",
   "execution_count": 21,
   "id": "c7d1fc0f-cdf7-45c3-b981-6fa69f53f796",
   "metadata": {},
   "outputs": [
    {
     "data": {
      "text/plain": [
       "(5395, 5)"
      ]
     },
     "execution_count": 21,
     "metadata": {},
     "output_type": "execute_result"
    }
   ],
   "source": [
    "# 거래량을 제외한 나머지 정규화 시킴\n",
    "\n",
    "df_info = df.values[1:].astype(np.float)\n",
    "\n",
    "price = df_info[:,:-1]  # 거래량 제외 나머지 들고오기\n",
    "norm_price = min_max_scaling(price) # 위에 정규화함수를 사용하여 정규화시킴\n",
    "norm_price.shape # 행, 열 갯수 확인"
   ]
  },
  {
   "cell_type": "code",
   "execution_count": 22,
   "id": "907b25e2-9526-4025-a896-e3556259ef09",
   "metadata": {},
   "outputs": [
    {
     "data": {
      "text/plain": [
       "array([[5.99186914e-02, 6.26046380e-02, 5.70261335e-02, 5.25031210e-07,\n",
       "        5.76459673e-02],\n",
       "       [5.94021632e-02, 5.97120801e-02, 5.76459673e-02, 1.49518999e-06,\n",
       "        5.80591899e-02],\n",
       "       [5.74393560e-02, 5.85757181e-02, 5.53732433e-02, 1.27408148e-06,\n",
       "        5.72327448e-02],\n",
       "       ...,\n",
       "       [7.27273115e-01, 7.29339228e-01, 7.21074777e-01, 1.47999938e-06,\n",
       "        7.29339228e-01],\n",
       "       [7.26240058e-01, 7.33471453e-01, 7.24173946e-01, 1.40650324e-06,\n",
       "        7.28306171e-01],\n",
       "       [7.26240058e-01, 7.32438397e-01, 7.25207002e-01, 1.39182920e-06,\n",
       "        7.26240058e-01]])"
      ]
     },
     "execution_count": 22,
     "metadata": {},
     "output_type": "execute_result"
    }
   ],
   "source": [
    "norm_price # 정규화 됬는지 확인"
   ]
  },
  {
   "cell_type": "code",
   "execution_count": 23,
   "id": "a56b5686-d679-4753-a97b-70fb01bb9e32",
   "metadata": {},
   "outputs": [
    {
     "data": {
      "text/plain": [
       "(5395, 1)"
      ]
     },
     "execution_count": 23,
     "metadata": {},
     "output_type": "execute_result"
    }
   ],
   "source": [
    "# 거래량만 따로 정큐화 시킴\n",
    "volume = df_info[:,-1:]   # 거래량 칼럼만 빼온다\n",
    "norm_volume = min_max_scaling(volume) # 정규화\n",
    "norm_volume.shape  # 행,열 갯수 확인"
   ]
  },
  {
   "cell_type": "code",
   "execution_count": 24,
   "id": "fc26bb00-d559-4cf1-ab41-252daf871651",
   "metadata": {},
   "outputs": [
    {
     "data": {
      "text/plain": [
       "array([[0.01653933],\n",
       "       [0.0120458 ],\n",
       "       [0.00892735],\n",
       "       ...,\n",
       "       [0.12315859],\n",
       "       [0.12357504],\n",
       "       [0.06425771]])"
      ]
     },
     "execution_count": 24,
     "metadata": {},
     "output_type": "execute_result"
    }
   ],
   "source": [
    "norm_volume # 정규화 됬는지 확인"
   ]
  },
  {
   "cell_type": "code",
   "execution_count": 25,
   "id": "2573b889-16b7-4dc2-8246-9c0c60b23a5c",
   "metadata": {},
   "outputs": [],
   "source": [
    "x = np.concatenate((norm_price, norm_volume), axis=1)   # 훈련을 위해 데이터 합침 \n",
    "y = x[:,[-2]]   # 종가 데이터만 따로 들고 옴 ( 종가 = 결과값 )\n",
    "\n",
    "dataX = []   # 한달단위로 데이터를 쪼갠 데이터를 넣기 위한\n",
    "dataY = []   # 빈 리스트 생성\n",
    "\n",
    "for i in range(0, len(y) - seq_length):  # 앞에 seq_length =30 으로 입력 달로 나누기위해\n",
    "    x1 = x[i:i+seq_length]\n",
    "    y1 = y[i+seq_length]\n",
    "    dataX.append(x1)\n",
    "    dataY.append(y1)\n",
    "    \n",
    "train_size = int(len(dataY)*0.8)\n",
    "test_size = len(dataY)-train_size"
   ]
  },
  {
   "cell_type": "code",
   "execution_count": 26,
   "id": "176145be-0646-4275-a326-98957e80715f",
   "metadata": {},
   "outputs": [
    {
     "name": "stdout",
     "output_type": "stream",
     "text": [
      "1073\n",
      "4292\n"
     ]
    }
   ],
   "source": [
    "print(test_size) # 사이즈 크기확인\n",
    "print(train_size)"
   ]
  },
  {
   "cell_type": "code",
   "execution_count": 27,
   "id": "b48e1b17-e187-42b0-9225-dab301c3cc36",
   "metadata": {},
   "outputs": [],
   "source": [
    "# trian & test 데이터 분류\n",
    "trainX = np.array(dataX[0:train_size])\n",
    "trainY = np.array(dataY[0:train_size])\n",
    "\n",
    "testX = np.array(dataX[train_size:len(dataX)])\n",
    "testY = np.array(dataY[train_size:len(dataY)])"
   ]
  },
  {
   "cell_type": "code",
   "execution_count": 31,
   "id": "bf677d3f-9a6e-4209-85c9-9aba7da23075",
   "metadata": {},
   "outputs": [],
   "source": [
    "from keras.models import Sequential\n",
    "from keras.layers import Dense\n",
    "from keras.callbacks import EarlyStopping, ModelCheckpoint\n",
    "from keras.layers import LSTM\n",
    "\n",
    "model = Sequential()\n",
    "model.add(LSTM(16, \n",
    "               input_shape=(trainX.shape[1], trainX.shape[2]), \n",
    "               activation='relu', \n",
    "               return_sequences=False)\n",
    "          )\n",
    "\n",
    "model.add(Dense(1))"
   ]
  },
  {
   "cell_type": "code",
   "execution_count": 33,
   "id": "dc5fa839-2ea2-48c9-aaed-894d7cf9e811",
   "metadata": {
    "collapsed": true,
    "jupyter": {
     "outputs_hidden": true
    },
    "tags": []
   },
   "outputs": [
    {
     "name": "stdout",
     "output_type": "stream",
     "text": [
      "Epoch 1/200\n",
      "257/269 [===========================>..] - ETA: 0s - loss: 0.0090\n",
      "Epoch 00001: val_loss improved from inf to 0.74293, saving model to model\\tmp_checkpoint.h5\n",
      "269/269 [==============================] - 2s 5ms/step - loss: 0.0086 - val_loss: 0.7429\n",
      "Epoch 2/200\n",
      "261/269 [============================>.] - ETA: 0s - loss: 5.8993e-05\n",
      "Epoch 00002: val_loss improved from 0.74293 to 0.56924, saving model to model\\tmp_checkpoint.h5\n",
      "269/269 [==============================] - 1s 4ms/step - loss: 5.8589e-05 - val_loss: 0.5692\n",
      "Epoch 3/200\n",
      "256/269 [===========================>..] - ETA: 0s - loss: 4.2954e-05\n",
      "Epoch 00003: val_loss improved from 0.56924 to 0.47956, saving model to model\\tmp_checkpoint.h5\n",
      "269/269 [==============================] - 1s 4ms/step - loss: 4.3151e-05 - val_loss: 0.4796\n",
      "Epoch 4/200\n",
      "265/269 [============================>.] - ETA: 0s - loss: 4.2486e-05\n",
      "Epoch 00004: val_loss improved from 0.47956 to 0.36371, saving model to model\\tmp_checkpoint.h5\n",
      "269/269 [==============================] - 1s 4ms/step - loss: 4.2400e-05 - val_loss: 0.3637\n",
      "Epoch 5/200\n",
      "257/269 [===========================>..] - ETA: 0s - loss: 4.2086e-05\n",
      "Epoch 00005: val_loss improved from 0.36371 to 0.32790, saving model to model\\tmp_checkpoint.h5\n",
      "269/269 [==============================] - 1s 4ms/step - loss: 4.1639e-05 - val_loss: 0.3279\n",
      "Epoch 6/200\n",
      "264/269 [============================>.] - ETA: 0s - loss: 3.9564e-05\n",
      "Epoch 00006: val_loss improved from 0.32790 to 0.22082, saving model to model\\tmp_checkpoint.h5\n",
      "269/269 [==============================] - 1s 4ms/step - loss: 3.9762e-05 - val_loss: 0.2208\n",
      "Epoch 7/200\n",
      "256/269 [===========================>..] - ETA: 0s - loss: 4.0801e-05\n",
      "Epoch 00007: val_loss improved from 0.22082 to 0.20314, saving model to model\\tmp_checkpoint.h5\n",
      "269/269 [==============================] - 1s 4ms/step - loss: 4.0129e-05 - val_loss: 0.2031\n",
      "Epoch 8/200\n",
      "265/269 [============================>.] - ETA: 0s - loss: 3.7741e-05\n",
      "Epoch 00008: val_loss improved from 0.20314 to 0.12484, saving model to model\\tmp_checkpoint.h5\n",
      "269/269 [==============================] - 1s 4ms/step - loss: 3.7658e-05 - val_loss: 0.1248\n",
      "Epoch 9/200\n",
      "262/269 [============================>.] - ETA: 0s - loss: 3.6620e-05\n",
      "Epoch 00009: val_loss improved from 0.12484 to 0.09198, saving model to model\\tmp_checkpoint.h5\n",
      "269/269 [==============================] - 1s 4ms/step - loss: 3.6505e-05 - val_loss: 0.0920\n",
      "Epoch 10/200\n",
      "266/269 [============================>.] - ETA: 0s - loss: 3.4390e-05\n",
      "Epoch 00010: val_loss did not improve from 0.09198\n",
      "269/269 [==============================] - 1s 4ms/step - loss: 3.4385e-05 - val_loss: 0.1064\n",
      "Epoch 11/200\n",
      "259/269 [===========================>..] - ETA: 0s - loss: 3.8647e-05\n",
      "Epoch 00011: val_loss improved from 0.09198 to 0.05398, saving model to model\\tmp_checkpoint.h5\n",
      "269/269 [==============================] - 1s 5ms/step - loss: 3.8321e-05 - val_loss: 0.0540\n",
      "Epoch 12/200\n",
      "265/269 [============================>.] - ETA: 0s - loss: 3.2029e-05\n",
      "Epoch 00012: val_loss improved from 0.05398 to 0.03776, saving model to model\\tmp_checkpoint.h5\n",
      "269/269 [==============================] - 1s 5ms/step - loss: 3.1843e-05 - val_loss: 0.0378\n",
      "Epoch 13/200\n",
      "258/269 [===========================>..] - ETA: 0s - loss: 3.0514e-05\n",
      "Epoch 00013: val_loss improved from 0.03776 to 0.03284, saving model to model\\tmp_checkpoint.h5\n",
      "269/269 [==============================] - 1s 4ms/step - loss: 3.0358e-05 - val_loss: 0.0328\n",
      "Epoch 14/200\n",
      "260/269 [===========================>..] - ETA: 0s - loss: 2.9585e-05\n",
      "Epoch 00014: val_loss improved from 0.03284 to 0.02935, saving model to model\\tmp_checkpoint.h5\n",
      "269/269 [==============================] - 1s 4ms/step - loss: 2.9512e-05 - val_loss: 0.0293\n",
      "Epoch 15/200\n",
      "259/269 [===========================>..] - ETA: 0s - loss: 2.8875e-05\n",
      "Epoch 00015: val_loss improved from 0.02935 to 0.01797, saving model to model\\tmp_checkpoint.h5\n",
      "269/269 [==============================] - 1s 4ms/step - loss: 2.9124e-05 - val_loss: 0.0180\n",
      "Epoch 16/200\n",
      "261/269 [============================>.] - ETA: 0s - loss: 2.8153e-05\n",
      "Epoch 00016: val_loss improved from 0.01797 to 0.01491, saving model to model\\tmp_checkpoint.h5\n",
      "269/269 [==============================] - 1s 4ms/step - loss: 2.8116e-05 - val_loss: 0.0149\n",
      "Epoch 17/200\n",
      "268/269 [============================>.] - ETA: 0s - loss: 2.7669e-05\n",
      "Epoch 00017: val_loss improved from 0.01491 to 0.01428, saving model to model\\tmp_checkpoint.h5\n",
      "269/269 [==============================] - 1s 4ms/step - loss: 2.7693e-05 - val_loss: 0.0143\n",
      "Epoch 18/200\n",
      "267/269 [============================>.] - ETA: 0s - loss: 2.7656e-05\n",
      "Epoch 00018: val_loss did not improve from 0.01428\n",
      "269/269 [==============================] - 1s 4ms/step - loss: 2.7572e-05 - val_loss: 0.0148\n",
      "Epoch 19/200\n",
      "266/269 [============================>.] - ETA: 0s - loss: 2.5666e-05\n",
      "Epoch 00019: val_loss improved from 0.01428 to 0.01101, saving model to model\\tmp_checkpoint.h5\n",
      "269/269 [==============================] - 1s 4ms/step - loss: 2.5846e-05 - val_loss: 0.0110\n",
      "Epoch 20/200\n",
      "259/269 [===========================>..] - ETA: 0s - loss: 2.6915e-05\n",
      "Epoch 00020: val_loss improved from 0.01101 to 0.01057, saving model to model\\tmp_checkpoint.h5\n",
      "269/269 [==============================] - 1s 4ms/step - loss: 2.6835e-05 - val_loss: 0.0106\n",
      "Epoch 21/200\n",
      "265/269 [============================>.] - ETA: 0s - loss: 2.6322e-05\n",
      "Epoch 00021: val_loss improved from 0.01057 to 0.00905, saving model to model\\tmp_checkpoint.h5\n",
      "269/269 [==============================] - 1s 4ms/step - loss: 2.6428e-05 - val_loss: 0.0090\n",
      "Epoch 22/200\n",
      "263/269 [============================>.] - ETA: 0s - loss: 2.4430e-05\n",
      "Epoch 00022: val_loss improved from 0.00905 to 0.00591, saving model to model\\tmp_checkpoint.h5\n",
      "269/269 [==============================] - 1s 4ms/step - loss: 2.4734e-05 - val_loss: 0.0059\n",
      "Epoch 23/200\n",
      "257/269 [===========================>..] - ETA: 0s - loss: 2.5343e-05\n",
      "Epoch 00023: val_loss did not improve from 0.00591\n",
      "269/269 [==============================] - 1s 4ms/step - loss: 2.5090e-05 - val_loss: 0.0092\n",
      "Epoch 24/200\n",
      "266/269 [============================>.] - ETA: 0s - loss: 2.4510e-05\n",
      "Epoch 00024: val_loss did not improve from 0.00591\n",
      "269/269 [==============================] - 1s 4ms/step - loss: 2.4451e-05 - val_loss: 0.0081\n",
      "Epoch 25/200\n",
      "260/269 [===========================>..] - ETA: 0s - loss: 2.4772e-05\n",
      "Epoch 00025: val_loss improved from 0.00591 to 0.00511, saving model to model\\tmp_checkpoint.h5\n",
      "269/269 [==============================] - 1s 4ms/step - loss: 2.4539e-05 - val_loss: 0.0051\n",
      "Epoch 26/200\n",
      "262/269 [============================>.] - ETA: 0s - loss: 2.3240e-05\n",
      "Epoch 00026: val_loss did not improve from 0.00511\n",
      "269/269 [==============================] - 1s 4ms/step - loss: 2.3326e-05 - val_loss: 0.0077\n",
      "Epoch 27/200\n",
      "266/269 [============================>.] - ETA: 0s - loss: 2.1953e-05\n",
      "Epoch 00027: val_loss did not improve from 0.00511\n",
      "269/269 [==============================] - 1s 4ms/step - loss: 2.1980e-05 - val_loss: 0.0053\n",
      "Epoch 28/200\n",
      "259/269 [===========================>..] - ETA: 0s - loss: 2.2199e-05\n",
      "Epoch 00028: val_loss did not improve from 0.00511\n",
      "269/269 [==============================] - 1s 4ms/step - loss: 2.1967e-05 - val_loss: 0.0070\n",
      "Epoch 29/200\n",
      "257/269 [===========================>..] - ETA: 0s - loss: 2.2771e-05\n",
      "Epoch 00029: val_loss did not improve from 0.00511\n",
      "269/269 [==============================] - 1s 4ms/step - loss: 2.2975e-05 - val_loss: 0.0070\n",
      "Epoch 30/200\n",
      "260/269 [===========================>..] - ETA: 0s - loss: 2.2437e-05\n",
      "Epoch 00030: val_loss improved from 0.00511 to 0.00356, saving model to model\\tmp_checkpoint.h5\n",
      "269/269 [==============================] - 1s 5ms/step - loss: 2.2434e-05 - val_loss: 0.0036\n",
      "Epoch 31/200\n",
      "258/269 [===========================>..] - ETA: 0s - loss: 2.1300e-05\n",
      "Epoch 00031: val_loss did not improve from 0.00356\n",
      "269/269 [==============================] - 1s 5ms/step - loss: 2.1284e-05 - val_loss: 0.0051\n",
      "Epoch 32/200\n",
      "259/269 [===========================>..] - ETA: 0s - loss: 2.1760e-05\n",
      "Epoch 00032: val_loss did not improve from 0.00356\n",
      "269/269 [==============================] - 1s 5ms/step - loss: 2.1827e-05 - val_loss: 0.0054\n",
      "Epoch 33/200\n",
      "258/269 [===========================>..] - ETA: 0s - loss: 2.0191e-05\n",
      "Epoch 00033: val_loss did not improve from 0.00356\n",
      "269/269 [==============================] - 1s 4ms/step - loss: 2.0283e-05 - val_loss: 0.0059\n",
      "Epoch 34/200\n",
      "267/269 [============================>.] - ETA: 0s - loss: 2.0871e-05\n",
      "Epoch 00034: val_loss improved from 0.00356 to 0.00311, saving model to model\\tmp_checkpoint.h5\n",
      "269/269 [==============================] - 1s 4ms/step - loss: 2.0906e-05 - val_loss: 0.0031\n",
      "Epoch 35/200\n",
      "260/269 [===========================>..] - ETA: 0s - loss: 2.1584e-05\n",
      "Epoch 00035: val_loss did not improve from 0.00311\n",
      "269/269 [==============================] - 1s 4ms/step - loss: 2.1643e-05 - val_loss: 0.0042\n",
      "Epoch 36/200\n",
      "268/269 [============================>.] - ETA: 0s - loss: 2.0334e-05\n",
      "Epoch 00036: val_loss did not improve from 0.00311\n",
      "269/269 [==============================] - 1s 4ms/step - loss: 2.0436e-05 - val_loss: 0.0055\n",
      "Epoch 37/200\n",
      "268/269 [============================>.] - ETA: 0s - loss: 2.0562e-05\n",
      "Epoch 00037: val_loss did not improve from 0.00311\n",
      "269/269 [==============================] - 1s 4ms/step - loss: 2.0549e-05 - val_loss: 0.0043\n",
      "Epoch 38/200\n",
      "264/269 [============================>.] - ETA: 0s - loss: 2.0233e-05\n",
      "Epoch 00038: val_loss improved from 0.00311 to 0.00210, saving model to model\\tmp_checkpoint.h5\n",
      "269/269 [==============================] - 1s 4ms/step - loss: 2.0086e-05 - val_loss: 0.0021\n",
      "Epoch 39/200\n",
      "263/269 [============================>.] - ETA: 0s - loss: 1.9099e-05\n",
      "Epoch 00039: val_loss did not improve from 0.00210\n",
      "269/269 [==============================] - 1s 4ms/step - loss: 1.9554e-05 - val_loss: 0.0032\n",
      "Epoch 40/200\n",
      "260/269 [===========================>..] - ETA: 0s - loss: 1.9397e-05\n",
      "Epoch 00040: val_loss did not improve from 0.00210\n",
      "269/269 [==============================] - 1s 4ms/step - loss: 1.9426e-05 - val_loss: 0.0032\n",
      "Epoch 41/200\n",
      "266/269 [============================>.] - ETA: 0s - loss: 1.9413e-05\n",
      "Epoch 00041: val_loss did not improve from 0.00210\n",
      "269/269 [==============================] - 1s 4ms/step - loss: 1.9430e-05 - val_loss: 0.0024\n",
      "Epoch 42/200\n",
      "257/269 [===========================>..] - ETA: 0s - loss: 1.9149e-05\n",
      "Epoch 00042: val_loss did not improve from 0.00210\n",
      "269/269 [==============================] - 1s 4ms/step - loss: 1.9213e-05 - val_loss: 0.0030\n",
      "Epoch 43/200\n",
      "269/269 [==============================] - ETA: 0s - loss: 1.8653e-05\n",
      "Epoch 00043: val_loss improved from 0.00210 to 0.00190, saving model to model\\tmp_checkpoint.h5\n",
      "269/269 [==============================] - 1s 4ms/step - loss: 1.8653e-05 - val_loss: 0.0019\n",
      "Epoch 44/200\n",
      "267/269 [============================>.] - ETA: 0s - loss: 1.8354e-05\n",
      "Epoch 00044: val_loss improved from 0.00190 to 0.00115, saving model to model\\tmp_checkpoint.h5\n",
      "269/269 [==============================] - 1s 4ms/step - loss: 1.8359e-05 - val_loss: 0.0011\n",
      "Epoch 45/200\n",
      "259/269 [===========================>..] - ETA: 0s - loss: 1.9182e-05\n",
      "Epoch 00045: val_loss did not improve from 0.00115\n",
      "269/269 [==============================] - 1s 4ms/step - loss: 1.9132e-05 - val_loss: 0.0025\n",
      "Epoch 46/200\n",
      "262/269 [============================>.] - ETA: 0s - loss: 1.8134e-05\n",
      "Epoch 00046: val_loss did not improve from 0.00115\n",
      "269/269 [==============================] - 1s 4ms/step - loss: 1.8136e-05 - val_loss: 0.0015\n",
      "Epoch 47/200\n",
      "263/269 [============================>.] - ETA: 0s - loss: 1.8376e-05\n",
      "Epoch 00047: val_loss did not improve from 0.00115\n",
      "269/269 [==============================] - 1s 4ms/step - loss: 1.8405e-05 - val_loss: 0.0020\n",
      "Epoch 48/200\n",
      "258/269 [===========================>..] - ETA: 0s - loss: 1.7544e-05\n",
      "Epoch 00048: val_loss did not improve from 0.00115\n",
      "269/269 [==============================] - 1s 4ms/step - loss: 1.7830e-05 - val_loss: 0.0016\n",
      "Epoch 49/200\n",
      "269/269 [==============================] - ETA: 0s - loss: 1.7707e-05\n",
      "Epoch 00049: val_loss did not improve from 0.00115\n",
      "269/269 [==============================] - 1s 4ms/step - loss: 1.7707e-05 - val_loss: 0.0012\n"
     ]
    }
   ],
   "source": [
    "import os\n",
    "\n",
    "model.compile(loss='mean_squared_error', optimizer='adam')\n",
    "early_stop = EarlyStopping(monitor='val_loss', patience=5)\n",
    "\n",
    "model_path = 'model'\n",
    "filename = os.path.join(model_path, 'tmp_checkpoint.h5')\n",
    "checkpoint = ModelCheckpoint(filename, monitor='val_loss', verbose=1, save_best_only=True, mode='auto')\n",
    "\n",
    "history = model.fit(trainX, trainY, \n",
    "                                    epochs=200, \n",
    "                                    batch_size=16,\n",
    "                                    validation_data=(testX, testY), \n",
    "                                    callbacks=[early_stop, checkpoint])"
   ]
  },
  {
   "cell_type": "code",
   "execution_count": 35,
   "id": "7f53b191-499b-4d11-a870-3074412819fc",
   "metadata": {},
   "outputs": [
    {
     "data": {
      "text/plain": [
       "(1073, 1)"
      ]
     },
     "execution_count": 35,
     "metadata": {},
     "output_type": "execute_result"
    }
   ],
   "source": [
    "model.load_weights(filename)\n",
    "pred = model.predict(testX)\n",
    "\n",
    "pred.shape"
   ]
  },
  {
   "cell_type": "code",
   "execution_count": 37,
   "id": "9e4f9f95-7c97-4365-853e-72d6ab253e12",
   "metadata": {},
   "outputs": [
    {
     "data": {
      "image/png": "[encoded data removed]",
      "text/plain": [
       "<Figure size 864x648 with 1 Axes>"
      ]
     },
     "metadata": {
      "needs_background": "light"
     },
     "output_type": "display_data"
    }
   ],
   "source": [
    "plt.figure(figsize=(12, 9))\n",
    "plt.plot(trainY, label = 'actual')\n",
    "plt.plot(pred, label = 'prediction')\n",
    "plt.legend()\n",
    "plt.show()"
   ]
  },
  {
   "cell_type": "code",
   "execution_count": 38,
   "id": "4892b01c-372c-4541-997f-e9047583ae98",
   "metadata": {},
   "outputs": [],
   "source": [
    "from sklearn.metrics import confusion_matrix,accuracy_score,precision_score,recall_score,f1_score,precision_recall_curve,roc_auc_score # 정확도 평가 방법"
   ]
  },
  {
   "cell_type": "code",
   "execution_count": 40,
   "id": "0ffe0f1c-98ee-4f52-8ee7-1f1d1cad10aa",
   "metadata": {},
   "outputs": [],
   "source": [
    "\n",
    "def get_clf_eval(y_test,pred):\n",
    "        confusion = confusion_matrix(testY,pred)\n",
    "        accuracy = accuracy_score(testY,pred)\n",
    "        precision = precision_score(testY,pred,average='weighted')\n",
    "        recall = recall_score(testY,pred,average='weighted')\n",
    "        f1 = f1_score(testY,pred,average='weighted')\n",
    "        print('오차행렬')\n",
    "        print(confusion)\n",
    "\n",
    "        print(f'정확도:{accuracy:.4f} 정밀도:{precision:.4f} 재현율:{recall:.4f} F1:{f1:.4f}')"
   ]
  },
  {
   "cell_type": "code",
   "execution_count": 42,
   "id": "01cd796f-8066-42b9-b3d7-17c30bbe9e0e",
   "metadata": {},
   "outputs": [
    {
     "ename": "ValueError",
     "evalue": "continuous is not supported",
     "output_type": "error",
     "traceback": [
      "\u001b[1;31m---------------------------------------------------------------------------\u001b[0m",
      "\u001b[1;31mValueError\u001b[0m                                Traceback (most recent call last)",
      "\u001b[1;32m~\\AppData\\Local\\Temp/ipykernel_9904/3728838974.py\u001b[0m in \u001b[0;36m<module>\u001b[1;34m\u001b[0m\n\u001b[1;32m----> 1\u001b[1;33m \u001b[0mget_clf_eval\u001b[0m\u001b[1;33m(\u001b[0m\u001b[0mtestY\u001b[0m\u001b[1;33m,\u001b[0m\u001b[0mpred\u001b[0m\u001b[1;33m)\u001b[0m\u001b[1;33m\u001b[0m\u001b[1;33m\u001b[0m\u001b[0m\n\u001b[0m",
      "\u001b[1;32m~\\AppData\\Local\\Temp/ipykernel_9904/2546721562.py\u001b[0m in \u001b[0;36mget_clf_eval\u001b[1;34m(y_test, pred)\u001b[0m\n\u001b[0;32m      1\u001b[0m \u001b[1;32mdef\u001b[0m \u001b[0mget_clf_eval\u001b[0m\u001b[1;33m(\u001b[0m\u001b[0my_test\u001b[0m\u001b[1;33m,\u001b[0m\u001b[0mpred\u001b[0m\u001b[1;33m)\u001b[0m\u001b[1;33m:\u001b[0m\u001b[1;33m\u001b[0m\u001b[1;33m\u001b[0m\u001b[0m\n\u001b[1;32m----> 2\u001b[1;33m         \u001b[0mconfusion\u001b[0m \u001b[1;33m=\u001b[0m \u001b[0mconfusion_matrix\u001b[0m\u001b[1;33m(\u001b[0m\u001b[0mtestY\u001b[0m\u001b[1;33m,\u001b[0m\u001b[0mpred\u001b[0m\u001b[1;33m)\u001b[0m\u001b[1;33m\u001b[0m\u001b[1;33m\u001b[0m\u001b[0m\n\u001b[0m\u001b[0;32m      3\u001b[0m         \u001b[0maccuracy\u001b[0m \u001b[1;33m=\u001b[0m \u001b[0maccuracy_score\u001b[0m\u001b[1;33m(\u001b[0m\u001b[0mtestY\u001b[0m\u001b[1;33m,\u001b[0m\u001b[0mpred\u001b[0m\u001b[1;33m)\u001b[0m\u001b[1;33m\u001b[0m\u001b[1;33m\u001b[0m\u001b[0m\n\u001b[0;32m      4\u001b[0m         \u001b[0mprecision\u001b[0m \u001b[1;33m=\u001b[0m \u001b[0mprecision_score\u001b[0m\u001b[1;33m(\u001b[0m\u001b[0mtestY\u001b[0m\u001b[1;33m,\u001b[0m\u001b[0mpred\u001b[0m\u001b[1;33m,\u001b[0m\u001b[0maverage\u001b[0m\u001b[1;33m=\u001b[0m\u001b[1;34m'weighted'\u001b[0m\u001b[1;33m)\u001b[0m\u001b[1;33m\u001b[0m\u001b[1;33m\u001b[0m\u001b[0m\n\u001b[0;32m      5\u001b[0m         \u001b[0mrecall\u001b[0m \u001b[1;33m=\u001b[0m \u001b[0mrecall_score\u001b[0m\u001b[1;33m(\u001b[0m\u001b[0mtestY\u001b[0m\u001b[1;33m,\u001b[0m\u001b[0mpred\u001b[0m\u001b[1;33m,\u001b[0m\u001b[0maverage\u001b[0m\u001b[1;33m=\u001b[0m\u001b[1;34m'weighted'\u001b[0m\u001b[1;33m)\u001b[0m\u001b[1;33m\u001b[0m\u001b[1;33m\u001b[0m\u001b[0m\n",
      "\u001b[1;32m~\\anaconda3\\lib\\site-packages\\sklearn\\metrics\\_classification.py\u001b[0m in \u001b[0;36mconfusion_matrix\u001b[1;34m(y_true, y_pred, labels, sample_weight, normalize)\u001b[0m\n\u001b[0;32m    300\u001b[0m \u001b[1;33m\u001b[0m\u001b[0m\n\u001b[0;32m    301\u001b[0m     \"\"\"\n\u001b[1;32m--> 302\u001b[1;33m     \u001b[0my_type\u001b[0m\u001b[1;33m,\u001b[0m \u001b[0my_true\u001b[0m\u001b[1;33m,\u001b[0m \u001b[0my_pred\u001b[0m \u001b[1;33m=\u001b[0m \u001b[0m_check_targets\u001b[0m\u001b[1;33m(\u001b[0m\u001b[0my_true\u001b[0m\u001b[1;33m,\u001b[0m \u001b[0my_pred\u001b[0m\u001b[1;33m)\u001b[0m\u001b[1;33m\u001b[0m\u001b[1;33m\u001b[0m\u001b[0m\n\u001b[0m\u001b[0;32m    303\u001b[0m     \u001b[1;32mif\u001b[0m \u001b[0my_type\u001b[0m \u001b[1;32mnot\u001b[0m \u001b[1;32min\u001b[0m \u001b[1;33m(\u001b[0m\u001b[1;34m\"binary\"\u001b[0m\u001b[1;33m,\u001b[0m \u001b[1;34m\"multiclass\"\u001b[0m\u001b[1;33m)\u001b[0m\u001b[1;33m:\u001b[0m\u001b[1;33m\u001b[0m\u001b[1;33m\u001b[0m\u001b[0m\n\u001b[0;32m    304\u001b[0m         \u001b[1;32mraise\u001b[0m \u001b[0mValueError\u001b[0m\u001b[1;33m(\u001b[0m\u001b[1;34m\"%s is not supported\"\u001b[0m \u001b[1;33m%\u001b[0m \u001b[0my_type\u001b[0m\u001b[1;33m)\u001b[0m\u001b[1;33m\u001b[0m\u001b[1;33m\u001b[0m\u001b[0m\n",
      "\u001b[1;32m~\\anaconda3\\lib\\site-packages\\sklearn\\metrics\\_classification.py\u001b[0m in \u001b[0;36m_check_targets\u001b[1;34m(y_true, y_pred)\u001b[0m\n\u001b[0;32m    102\u001b[0m     \u001b[1;31m# No metrics support \"multiclass-multioutput\" format\u001b[0m\u001b[1;33m\u001b[0m\u001b[1;33m\u001b[0m\u001b[1;33m\u001b[0m\u001b[0m\n\u001b[0;32m    103\u001b[0m     \u001b[1;32mif\u001b[0m \u001b[0my_type\u001b[0m \u001b[1;32mnot\u001b[0m \u001b[1;32min\u001b[0m \u001b[1;33m[\u001b[0m\u001b[1;34m\"binary\"\u001b[0m\u001b[1;33m,\u001b[0m \u001b[1;34m\"multiclass\"\u001b[0m\u001b[1;33m,\u001b[0m \u001b[1;34m\"multilabel-indicator\"\u001b[0m\u001b[1;33m]\u001b[0m\u001b[1;33m:\u001b[0m\u001b[1;33m\u001b[0m\u001b[1;33m\u001b[0m\u001b[0m\n\u001b[1;32m--> 104\u001b[1;33m         \u001b[1;32mraise\u001b[0m \u001b[0mValueError\u001b[0m\u001b[1;33m(\u001b[0m\u001b[1;34m\"{0} is not supported\"\u001b[0m\u001b[1;33m.\u001b[0m\u001b[0mformat\u001b[0m\u001b[1;33m(\u001b[0m\u001b[0my_type\u001b[0m\u001b[1;33m)\u001b[0m\u001b[1;33m)\u001b[0m\u001b[1;33m\u001b[0m\u001b[1;33m\u001b[0m\u001b[0m\n\u001b[0m\u001b[0;32m    105\u001b[0m \u001b[1;33m\u001b[0m\u001b[0m\n\u001b[0;32m    106\u001b[0m     \u001b[1;32mif\u001b[0m \u001b[0my_type\u001b[0m \u001b[1;32min\u001b[0m \u001b[1;33m[\u001b[0m\u001b[1;34m\"binary\"\u001b[0m\u001b[1;33m,\u001b[0m \u001b[1;34m\"multiclass\"\u001b[0m\u001b[1;33m]\u001b[0m\u001b[1;33m:\u001b[0m\u001b[1;33m\u001b[0m\u001b[1;33m\u001b[0m\u001b[0m\n",
      "\u001b[1;31mValueError\u001b[0m: continuous is not supported"
     ]
    }
   ],
   "source": [
    "get_clf_eval(testY,pred)"
   ]
  },
  {
   "cell_type": "code",
   "execution_count": 28,
   "id": "77ef5fc6-809f-4779-9242-b67e6d440b33",
   "metadata": {},
   "outputs": [
    {
     "ename": "RuntimeError",
     "evalue": "tf.placeholder() is not compatible with eager execution.",
     "output_type": "error",
     "traceback": [
      "\u001b[1;31m---------------------------------------------------------------------------\u001b[0m",
      "\u001b[1;31mRuntimeError\u001b[0m                              Traceback (most recent call last)",
      "\u001b[1;32m~\\AppData\\Local\\Temp/ipykernel_9904/177203987.py\u001b[0m in \u001b[0;36m<module>\u001b[1;34m\u001b[0m\n\u001b[0;32m      1\u001b[0m \u001b[1;31m#placeholder : 처음에 변수를 선언 할때 바로 값을 주는 것이 아니라 나중에 값을 던저주는 공간을 만들어주는 것\u001b[0m\u001b[1;33m\u001b[0m\u001b[1;33m\u001b[0m\u001b[1;33m\u001b[0m\u001b[0m\n\u001b[0;32m      2\u001b[0m \u001b[1;33m\u001b[0m\u001b[0m\n\u001b[1;32m----> 3\u001b[1;33m \u001b[0mX\u001b[0m \u001b[1;33m=\u001b[0m \u001b[0mtf\u001b[0m\u001b[1;33m.\u001b[0m\u001b[0mplaceholder\u001b[0m\u001b[1;33m(\u001b[0m\u001b[0mtf\u001b[0m\u001b[1;33m.\u001b[0m\u001b[0mfloat32\u001b[0m\u001b[1;33m,\u001b[0m \u001b[1;33m[\u001b[0m\u001b[1;32mNone\u001b[0m\u001b[1;33m,\u001b[0m\u001b[0mseq_length\u001b[0m\u001b[1;33m,\u001b[0m \u001b[0minput_dcm_cnt\u001b[0m\u001b[1;33m]\u001b[0m\u001b[1;33m)\u001b[0m \u001b[1;31m#dtype 설정 안할경우 에러방생\u001b[0m\u001b[1;33m\u001b[0m\u001b[1;33m\u001b[0m\u001b[0m\n\u001b[0m\u001b[0;32m      4\u001b[0m \u001b[0mY\u001b[0m \u001b[1;33m=\u001b[0m \u001b[0mtf\u001b[0m\u001b[1;33m.\u001b[0m\u001b[0mplaceholder\u001b[0m\u001b[1;33m(\u001b[0m\u001b[0mtf\u001b[0m\u001b[1;33m.\u001b[0m\u001b[0mfloat32\u001b[0m\u001b[1;33m,\u001b[0m \u001b[1;33m[\u001b[0m\u001b[1;32mNone\u001b[0m\u001b[1;33m,\u001b[0m\u001b[1;36m1\u001b[0m\u001b[1;33m]\u001b[0m\u001b[1;33m)\u001b[0m\u001b[1;33m\u001b[0m\u001b[1;33m\u001b[0m\u001b[0m\n\u001b[0;32m      5\u001b[0m \u001b[1;31m#print(X) # 값확인\u001b[0m\u001b[1;33m\u001b[0m\u001b[1;33m\u001b[0m\u001b[1;33m\u001b[0m\u001b[0m\n",
      "\u001b[1;32m~\\anaconda3\\lib\\site-packages\\tensorflow\\python\\ops\\array_ops.py\u001b[0m in \u001b[0;36mplaceholder\u001b[1;34m(dtype, shape, name)\u001b[0m\n\u001b[0;32m   3284\u001b[0m   \"\"\"\n\u001b[0;32m   3285\u001b[0m   \u001b[1;32mif\u001b[0m \u001b[0mcontext\u001b[0m\u001b[1;33m.\u001b[0m\u001b[0mexecuting_eagerly\u001b[0m\u001b[1;33m(\u001b[0m\u001b[1;33m)\u001b[0m\u001b[1;33m:\u001b[0m\u001b[1;33m\u001b[0m\u001b[1;33m\u001b[0m\u001b[0m\n\u001b[1;32m-> 3286\u001b[1;33m     raise RuntimeError(\"tf.placeholder() is not compatible with \"\n\u001b[0m\u001b[0;32m   3287\u001b[0m                        \"eager execution.\")\n\u001b[0;32m   3288\u001b[0m \u001b[1;33m\u001b[0m\u001b[0m\n",
      "\u001b[1;31mRuntimeError\u001b[0m: tf.placeholder() is not compatible with eager execution."
     ]
    }
   ],
   "source": [
    "# #placeholder : 처음에 변수를 선언 할때 바로 값을 주는 것이 아니라 나중에 값을 던저주는 공간을 만들어주는 것\n",
    "\n",
    "# X = tf.placeholder(tf.float32, [None,seq_length, input_dcm_cnt]) #dtype 설정 안할경우 에러방생\n",
    "# Y = tf.placeholder(tf.float32, [None,1])\n",
    "# #print(X) # 값확인\n",
    "# #print(Y)\n",
    "\n",
    "# target = tf.placeholder(tf.float32, [None, 1])  # 훈련데이터 분류\n",
    "# pred = tf.placeholder(tf.float32, [None, 1])\n",
    "# #print(target) #값확인\n",
    "# #print(pred)"
   ]
  },
  {
   "cell_type": "code",
   "execution_count": null,
   "id": "cc35a03d-e6b4-4211-8df0-5de735db276c",
   "metadata": {},
   "outputs": [],
   "source": [
    "# LSTM_RNN 버전을 함수로 설정\n",
    "def lstm_cell():\n",
    "    cell = tf.contrib.rnn.BasicLSTMCell(num_units=rnn_cell_hidden_dim, # 아웃풋 크기 설정\n",
    "                                       forget_bias=forget_bias, # 망각편향값 1 디폴트값\n",
    "                                       state_is_tuple=True,\n",
    "                                       activation=tf.nn.softsign) \n",
    "    if keep_prob < 1.0 :\n",
    "        cell = tf.contrib.rnn.DropoutWrapper(cell, output_keep_prob=keep_prob) # 오래걸리는 경우의 방법은 삭제해준다.\n",
    "    return cell"
   ]
  },
  {
   "cell_type": "code",
   "execution_count": null,
   "id": "59e54a14-fa30-4ddb-8012-fd957ce1c904",
   "metadata": {},
   "outputs": [],
   "source": []
  },
  {
   "cell_type": "code",
   "execution_count": null,
   "id": "83c39c6c-2235-459f-bb12-ab90a6a3c488",
   "metadata": {},
   "outputs": [],
   "source": [
    "stackedRNNs = [lstm_cell()for _ in range(num_df_layers)] #df LSTM Layers 개수 1  위에서 설정\n",
    "multi_cells = tf.contrib.rnn.MultiRNNCell(stackedRNNs, state_is_tuple=True)if num_stacked_layers > 1 else lstm_cell()\n",
    "\n",
    "hypothesis, _states = tf.nn.dynamic_rnn(multi_cells, X, dtype=tf.float32)\n",
    "hypothesis = tf.contrib.layers.fully_connected(hypothesis[:,-1], output_dcm_cnt, activation_fn=tf.identity)\n",
    "hypothesis.shape"
   ]
  },
  {
   "cell_type": "code",
   "execution_count": null,
   "id": "009f1e08-4e27-4409-a61c-c294fac6cd13",
   "metadata": {},
   "outputs": [],
   "source": []
  },
  {
   "cell_type": "code",
   "execution_count": 1,
   "id": "937bac6d-104d-4445-b3d5-9564cf63fb9b",
   "metadata": {},
   "outputs": [
    {
     "ename": "ImportError",
     "evalue": "cannot import name 'to_categorical' from 'keras.utils' (C:\\Users\\admin\\anaconda3\\lib\\site-packages\\keras\\utils\\__init__.py)",
     "output_type": "error",
     "traceback": [
      "\u001b[1;31m---------------------------------------------------------------------------\u001b[0m",
      "\u001b[1;31mImportError\u001b[0m                               Traceback (most recent call last)",
      "\u001b[1;32m~\\AppData\\Local\\Temp/ipykernel_7992/2710229009.py\u001b[0m in \u001b[0;36m<module>\u001b[1;34m\u001b[0m\n\u001b[1;32m----> 1\u001b[1;33m \u001b[1;32mfrom\u001b[0m \u001b[0mkeras\u001b[0m\u001b[1;33m.\u001b[0m\u001b[0mutils\u001b[0m \u001b[1;32mimport\u001b[0m \u001b[0mto_categorical\u001b[0m\u001b[1;33m\u001b[0m\u001b[1;33m\u001b[0m\u001b[0m\n\u001b[0m",
      "\u001b[1;31mImportError\u001b[0m: cannot import name 'to_categorical' from 'keras.utils' (C:\\Users\\admin\\anaconda3\\lib\\site-packages\\keras\\utils\\__init__.py)"
     ]
    }
   ],
   "source": []
  },
  {
   "cell_type": "code",
   "execution_count": null,
   "id": "1496c81d-866e-4bc7-a0e0-265689805488",
   "metadata": {},
   "outputs": [],
   "source": []
  }
 ],
 "metadata": {
  "kernelspec": {
   "display_name": "Python 3 (ipykernel)",
   "language": "python",
   "name": "python3"
  },
  "language_info": {
   "codemirror_mode": {
    "name": "ipython",
    "version": 3
   },
   "file_extension": ".py",
   "mimetype": "text/x-python",
   "name": "python",
   "nbconvert_exporter": "python",
   "pygments_lexer": "ipython3",
   "version": "3.8.12"
  }
 },
 "nbformat": 4,
 "nbformat_minor": 5
}

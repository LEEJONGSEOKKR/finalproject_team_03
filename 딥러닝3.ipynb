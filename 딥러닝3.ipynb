{
 "cells": [
  {
   "cell_type": "code",
   "execution_count": 1,
   "id": "144bc4aa-1eee-41bd-af1c-342cda075237",
   "metadata": {},
   "outputs": [],
   "source": [
    "import FinanceDataReader as fdr #주식데이터 불러오기\n",
    "import OpenDartReader # 주식데이터 openapi 사용툴\n",
    "import pandas as pd # 데이터저장\n",
    "import matplotlib as mpl # 시각화\n",
    "import matplotlib.pyplot as plt # 시각화\n",
    "import matplotlib.font_manager as fm # 한글폰트 적용\n",
    "import seaborn as sns # 시각화\n",
    "import numpy as np\n",
    "font_path = r'C:\\Windows\\Fonts\\NanumBarunGothic.ttf' # 한글폰트 경로"
   ]
  },
  {
   "cell_type": "code",
   "execution_count": 2,
   "id": "888a0d7e-4fad-4e3f-a226-538d601c3c56",
   "metadata": {},
   "outputs": [],
   "source": [
    "import warnings\n",
    "warnings.filterwarnings('ignore')\n",
    "#오류 제거"
   ]
  },
  {
   "cell_type": "code",
   "execution_count": 44,
   "id": "5681b79c-f741-4565-a8c5-74782b37f73a",
   "metadata": {},
   "outputs": [
    {
     "data": {
      "text/html": [
       "<div>\n",
       "<style scoped>\n",
       "    .dataframe tbody tr th:only-of-type {\n",
       "        vertical-align: middle;\n",
       "    }\n",
       "\n",
       "    .dataframe tbody tr th {\n",
       "        vertical-align: top;\n",
       "    }\n",
       "\n",
       "    .dataframe thead th {\n",
       "        text-align: right;\n",
       "    }\n",
       "</style>\n",
       "<table border=\"1\" class=\"dataframe\">\n",
       "  <thead>\n",
       "    <tr style=\"text-align: right;\">\n",
       "      <th></th>\n",
       "      <th>Open</th>\n",
       "      <th>High</th>\n",
       "      <th>Low</th>\n",
       "      <th>Close</th>\n",
       "      <th>Volume</th>\n",
       "      <th>Change</th>\n",
       "    </tr>\n",
       "    <tr>\n",
       "      <th>Date</th>\n",
       "      <th></th>\n",
       "      <th></th>\n",
       "      <th></th>\n",
       "      <th></th>\n",
       "      <th></th>\n",
       "      <th></th>\n",
       "    </tr>\n",
       "  </thead>\n",
       "  <tbody>\n",
       "    <tr>\n",
       "      <th>2019-01-02</th>\n",
       "      <td>39400</td>\n",
       "      <td>39400</td>\n",
       "      <td>38550</td>\n",
       "      <td>38750</td>\n",
       "      <td>7847664</td>\n",
       "      <td>0.001292</td>\n",
       "    </tr>\n",
       "    <tr>\n",
       "      <th>2019-01-03</th>\n",
       "      <td>38300</td>\n",
       "      <td>38550</td>\n",
       "      <td>37450</td>\n",
       "      <td>37600</td>\n",
       "      <td>12471493</td>\n",
       "      <td>-0.029677</td>\n",
       "    </tr>\n",
       "    <tr>\n",
       "      <th>2019-01-04</th>\n",
       "      <td>37450</td>\n",
       "      <td>37600</td>\n",
       "      <td>36850</td>\n",
       "      <td>37450</td>\n",
       "      <td>14108958</td>\n",
       "      <td>-0.003989</td>\n",
       "    </tr>\n",
       "    <tr>\n",
       "      <th>2019-01-07</th>\n",
       "      <td>38000</td>\n",
       "      <td>38900</td>\n",
       "      <td>37800</td>\n",
       "      <td>38750</td>\n",
       "      <td>12748997</td>\n",
       "      <td>0.034713</td>\n",
       "    </tr>\n",
       "    <tr>\n",
       "      <th>2019-01-08</th>\n",
       "      <td>38000</td>\n",
       "      <td>39200</td>\n",
       "      <td>37950</td>\n",
       "      <td>38100</td>\n",
       "      <td>12756554</td>\n",
       "      <td>-0.016774</td>\n",
       "    </tr>\n",
       "    <tr>\n",
       "      <th>...</th>\n",
       "      <td>...</td>\n",
       "      <td>...</td>\n",
       "      <td>...</td>\n",
       "      <td>...</td>\n",
       "      <td>...</td>\n",
       "      <td>...</td>\n",
       "    </tr>\n",
       "    <tr>\n",
       "      <th>2021-11-04</th>\n",
       "      <td>71200</td>\n",
       "      <td>71600</td>\n",
       "      <td>70500</td>\n",
       "      <td>70600</td>\n",
       "      <td>11818987</td>\n",
       "      <td>0.002841</td>\n",
       "    </tr>\n",
       "    <tr>\n",
       "      <th>2021-11-05</th>\n",
       "      <td>71600</td>\n",
       "      <td>71600</td>\n",
       "      <td>70200</td>\n",
       "      <td>70200</td>\n",
       "      <td>12667743</td>\n",
       "      <td>-0.005666</td>\n",
       "    </tr>\n",
       "    <tr>\n",
       "      <th>2021-11-08</th>\n",
       "      <td>70400</td>\n",
       "      <td>70600</td>\n",
       "      <td>69800</td>\n",
       "      <td>70600</td>\n",
       "      <td>11121981</td>\n",
       "      <td>0.005698</td>\n",
       "    </tr>\n",
       "    <tr>\n",
       "      <th>2021-11-09</th>\n",
       "      <td>70300</td>\n",
       "      <td>71000</td>\n",
       "      <td>70100</td>\n",
       "      <td>70500</td>\n",
       "      <td>11159589</td>\n",
       "      <td>-0.001416</td>\n",
       "    </tr>\n",
       "    <tr>\n",
       "      <th>2021-11-10</th>\n",
       "      <td>70300</td>\n",
       "      <td>70900</td>\n",
       "      <td>70200</td>\n",
       "      <td>70200</td>\n",
       "      <td>9377109</td>\n",
       "      <td>-0.004255</td>\n",
       "    </tr>\n",
       "  </tbody>\n",
       "</table>\n",
       "<p>706 rows × 6 columns</p>\n",
       "</div>"
      ],
      "text/plain": [
       "             Open   High    Low  Close    Volume    Change\n",
       "Date                                                      \n",
       "2019-01-02  39400  39400  38550  38750   7847664  0.001292\n",
       "2019-01-03  38300  38550  37450  37600  12471493 -0.029677\n",
       "2019-01-04  37450  37600  36850  37450  14108958 -0.003989\n",
       "2019-01-07  38000  38900  37800  38750  12748997  0.034713\n",
       "2019-01-08  38000  39200  37950  38100  12756554 -0.016774\n",
       "...           ...    ...    ...    ...       ...       ...\n",
       "2021-11-04  71200  71600  70500  70600  11818987  0.002841\n",
       "2021-11-05  71600  71600  70200  70200  12667743 -0.005666\n",
       "2021-11-08  70400  70600  69800  70600  11121981  0.005698\n",
       "2021-11-09  70300  71000  70100  70500  11159589 -0.001416\n",
       "2021-11-10  70300  70900  70200  70200   9377109 -0.004255\n",
       "\n",
       "[706 rows x 6 columns]"
      ]
     },
     "execution_count": 44,
     "metadata": {},
     "output_type": "execute_result"
    }
   ],
   "source": [
    "df = fdr.DataReader(symbol='005930',start='2019')  \n",
    "# symbol : 종목코드 , 무조건 6자리 사용\n",
    "# 시작점 미설정시 : 상장일부터\n",
    "# 종료점 미설정시 : 현재일까지\n",
    "df"
   ]
  },
  {
   "cell_type": "code",
   "execution_count": 45,
   "id": "81c98e69-83ef-41da-842b-902be2ff541e",
   "metadata": {},
   "outputs": [
    {
     "name": "stdout",
     "output_type": "stream",
     "text": [
      "<class 'pandas.core.frame.DataFrame'>\n",
      "DatetimeIndex: 706 entries, 2019-01-02 to 2021-11-10\n",
      "Data columns (total 6 columns):\n",
      " #   Column  Non-Null Count  Dtype  \n",
      "---  ------  --------------  -----  \n",
      " 0   시가      706 non-null    int64  \n",
      " 1   고가      706 non-null    int64  \n",
      " 2   저가      706 non-null    int64  \n",
      " 3   종가      706 non-null    int64  \n",
      " 4   거래량     706 non-null    int64  \n",
      " 5   등락률     706 non-null    float64\n",
      "dtypes: float64(1), int64(5)\n",
      "memory usage: 38.6 KB\n"
     ]
    }
   ],
   "source": [
    "df = df.rename(columns={'Open' : '시가',   # 이해하기 쉽게 칼럼을 한글로 변경\n",
    "                        'High' : '고가',\n",
    "                        'Low' : '저가',\n",
    "                        'Close' : '종가',\n",
    "                        'Volume' : '거래량',\n",
    "                        'Change' : '등락률',                     \n",
    "                           })\n",
    "df.info()"
   ]
  },
  {
   "cell_type": "code",
   "execution_count": 46,
   "id": "8114af68-8b7e-4d33-9137-7c94d48fe890",
   "metadata": {},
   "outputs": [
    {
     "data": {
      "text/html": [
       "<div>\n",
       "<style scoped>\n",
       "    .dataframe tbody tr th:only-of-type {\n",
       "        vertical-align: middle;\n",
       "    }\n",
       "\n",
       "    .dataframe tbody tr th {\n",
       "        vertical-align: top;\n",
       "    }\n",
       "\n",
       "    .dataframe thead th {\n",
       "        text-align: right;\n",
       "    }\n",
       "</style>\n",
       "<table border=\"1\" class=\"dataframe\">\n",
       "  <thead>\n",
       "    <tr style=\"text-align: right;\">\n",
       "      <th></th>\n",
       "      <th>시가</th>\n",
       "      <th>고가</th>\n",
       "      <th>저가</th>\n",
       "      <th>종가</th>\n",
       "      <th>거래량</th>\n",
       "    </tr>\n",
       "  </thead>\n",
       "  <tbody>\n",
       "    <tr>\n",
       "      <th>0</th>\n",
       "      <td>0.036897</td>\n",
       "      <td>0.030405</td>\n",
       "      <td>0.032289</td>\n",
       "      <td>0.024276</td>\n",
       "      <td>0.040060</td>\n",
       "    </tr>\n",
       "    <tr>\n",
       "      <th>1</th>\n",
       "      <td>0.016083</td>\n",
       "      <td>0.016047</td>\n",
       "      <td>0.011396</td>\n",
       "      <td>0.002801</td>\n",
       "      <td>0.093888</td>\n",
       "    </tr>\n",
       "    <tr>\n",
       "      <th>2</th>\n",
       "      <td>0.000000</td>\n",
       "      <td>0.000000</td>\n",
       "      <td>0.000000</td>\n",
       "      <td>0.000000</td>\n",
       "      <td>0.112951</td>\n",
       "    </tr>\n",
       "    <tr>\n",
       "      <th>3</th>\n",
       "      <td>0.010407</td>\n",
       "      <td>0.021959</td>\n",
       "      <td>0.018044</td>\n",
       "      <td>0.024276</td>\n",
       "      <td>0.097119</td>\n",
       "    </tr>\n",
       "    <tr>\n",
       "      <th>4</th>\n",
       "      <td>0.010407</td>\n",
       "      <td>0.027027</td>\n",
       "      <td>0.020893</td>\n",
       "      <td>0.012138</td>\n",
       "      <td>0.097207</td>\n",
       "    </tr>\n",
       "    <tr>\n",
       "      <th>...</th>\n",
       "      <td>...</td>\n",
       "      <td>...</td>\n",
       "      <td>...</td>\n",
       "      <td>...</td>\n",
       "      <td>...</td>\n",
       "    </tr>\n",
       "    <tr>\n",
       "      <th>701</th>\n",
       "      <td>0.638600</td>\n",
       "      <td>0.574324</td>\n",
       "      <td>0.639126</td>\n",
       "      <td>0.619048</td>\n",
       "      <td>0.086292</td>\n",
       "    </tr>\n",
       "    <tr>\n",
       "      <th>702</th>\n",
       "      <td>0.646168</td>\n",
       "      <td>0.574324</td>\n",
       "      <td>0.633428</td>\n",
       "      <td>0.611578</td>\n",
       "      <td>0.096173</td>\n",
       "    </tr>\n",
       "    <tr>\n",
       "      <th>703</th>\n",
       "      <td>0.623463</td>\n",
       "      <td>0.557432</td>\n",
       "      <td>0.625831</td>\n",
       "      <td>0.619048</td>\n",
       "      <td>0.078178</td>\n",
       "    </tr>\n",
       "    <tr>\n",
       "      <th>704</th>\n",
       "      <td>0.621570</td>\n",
       "      <td>0.564189</td>\n",
       "      <td>0.631529</td>\n",
       "      <td>0.617180</td>\n",
       "      <td>0.078616</td>\n",
       "    </tr>\n",
       "    <tr>\n",
       "      <th>705</th>\n",
       "      <td>0.621570</td>\n",
       "      <td>0.562500</td>\n",
       "      <td>0.633428</td>\n",
       "      <td>0.611578</td>\n",
       "      <td>0.057865</td>\n",
       "    </tr>\n",
       "  </tbody>\n",
       "</table>\n",
       "<p>706 rows × 5 columns</p>\n",
       "</div>"
      ],
      "text/plain": [
       "           시가        고가        저가        종가       거래량\n",
       "0    0.036897  0.030405  0.032289  0.024276  0.040060\n",
       "1    0.016083  0.016047  0.011396  0.002801  0.093888\n",
       "2    0.000000  0.000000  0.000000  0.000000  0.112951\n",
       "3    0.010407  0.021959  0.018044  0.024276  0.097119\n",
       "4    0.010407  0.027027  0.020893  0.012138  0.097207\n",
       "..        ...       ...       ...       ...       ...\n",
       "701  0.638600  0.574324  0.639126  0.619048  0.086292\n",
       "702  0.646168  0.574324  0.633428  0.611578  0.096173\n",
       "703  0.623463  0.557432  0.625831  0.619048  0.078178\n",
       "704  0.621570  0.564189  0.631529  0.617180  0.078616\n",
       "705  0.621570  0.562500  0.633428  0.611578  0.057865\n",
       "\n",
       "[706 rows x 5 columns]"
      ]
     },
     "execution_count": 46,
     "metadata": {},
     "output_type": "execute_result"
    }
   ],
   "source": [
    "# 데이터 정규화 0~1로\n",
    "from sklearn.preprocessing import MinMaxScaler\n",
    "\n",
    "df.sort_index(ascending=False).reset_index(drop=True)\n",
    "\n",
    "scaler = MinMaxScaler()\n",
    "scale_cols = ['시가', '고가', '저가', '종가', '거래량']\n",
    "df_scaled = scaler.fit_transform(df[scale_cols])\n",
    "df_scaled = pd.DataFrame(df_scaled)\n",
    "df_scaled.columns = scale_cols\n",
    "df_scaled\n",
    "#df = df.rename_axis('index').reset_index() # 데이터 인덱스 추가"
   ]
  },
  {
   "cell_type": "code",
   "execution_count": 47,
   "id": "ee316e6e-f6c2-4be8-b8e4-e1bf8cd8ec61",
   "metadata": {},
   "outputs": [],
   "source": [
    "def make_dataset(data, label, window_size=20):\n",
    "    feature_list = []\n",
    "    label_list = []\n",
    "    for i in range(len(data) - window_size):\n",
    "        feature_list.append(np.array(data.iloc[i:i+window_size]))\n",
    "        label_list.append(np.array(label.iloc[i+window_size]))\n",
    "    return np.array(feature_list), np.array(label_list)"
   ]
  },
  {
   "cell_type": "code",
   "execution_count": 72,
   "id": "e658b306-47bc-4e0d-90e8-77bcd0b40b13",
   "metadata": {},
   "outputs": [],
   "source": [
    "TEST_SIZE = 200\n",
    "WINDOW_SIZE = 20\n",
    "\n",
    "train = df_scaled[:-TEST_SIZE]\n",
    "test = df_scaled[-TEST_SIZE:]"
   ]
  },
  {
   "cell_type": "code",
   "execution_count": 73,
   "id": "bb75c4d2-42e7-4973-a744-77ae589fa67e",
   "metadata": {},
   "outputs": [
    {
     "data": {
      "text/plain": [
       "(437, 1)"
      ]
     },
     "execution_count": 73,
     "metadata": {},
     "output_type": "execute_result"
    }
   ],
   "source": [
    "from sklearn.model_selection import train_test_split\n",
    "\n",
    "feature_cols = ['시가', '고가', '저가', '거래량']\n",
    "label_cols = ['종가']\n",
    "\n",
    "train_feature = train[feature_cols]\n",
    "train_label = train[label_cols]\n",
    "\n",
    "train_feature, train_label = make_dataset(train_feature, train_label, 20)\n",
    "\n",
    "x_train, x_valid, y_train, y_valid = train_test_split(train_feature, train_label, test_size=0.1)\n",
    "x_train.shape, x_valid.shape\n",
    "y_train.shape"
   ]
  },
  {
   "cell_type": "code",
   "execution_count": 65,
   "id": "ac8532fe-9269-40b1-aa7a-658371d40c27",
   "metadata": {},
   "outputs": [
    {
     "data": {
      "text/plain": [
       "((180, 20, 4), (180, 1))"
      ]
     },
     "execution_count": 65,
     "metadata": {},
     "output_type": "execute_result"
    }
   ],
   "source": [
    "test_feature = test[feature_cols]\n",
    "test_label = test[label_cols]\n",
    "\n",
    "\n",
    "test_feature, test_label = make_dataset(test_feature, test_label, 20)\n",
    "test_feature.shape, test_label.shape"
   ]
  },
  {
   "cell_type": "code",
   "execution_count": 66,
   "id": "0cd29432-7c06-4400-a793-a5067b59d5da",
   "metadata": {},
   "outputs": [],
   "source": [
    "# Training\n",
    "\n",
    "from keras.models import Sequential\n",
    "from keras.layers import Dense\n",
    "from keras.callbacks import EarlyStopping, ModelCheckpoint\n",
    "from keras.layers import LSTM\n",
    "\n",
    "model = Sequential()\n",
    "model.add(LSTM(16, \n",
    "               input_shape=(train_feature.shape[1], train_feature.shape[2]), \n",
    "               activation='relu', \n",
    "               return_sequences=False)\n",
    "          )\n",
    "\n",
    "model.add(Dense(1))"
   ]
  },
  {
   "cell_type": "code",
   "execution_count": 67,
   "id": "3be3b587-446a-4ab7-9c33-d78ca3be4a00",
   "metadata": {
    "tags": []
   },
   "outputs": [
    {
     "name": "stdout",
     "output_type": "stream",
     "text": [
      "Epoch 1/200\n",
      "18/28 [==================>...........] - ETA: 0s - loss: 0.1161 \n",
      "Epoch 00001: val_loss improved from inf to 0.03505, saving model to model\\tmp_checkpoint.h5\n",
      "28/28 [==============================] - 1s 8ms/step - loss: 0.0947 - val_loss: 0.0350\n",
      "Epoch 2/200\n",
      "19/28 [===================>..........] - ETA: 0s - loss: 0.0102\n",
      "Epoch 00002: val_loss improved from 0.03505 to 0.00655, saving model to model\\tmp_checkpoint.h5\n",
      "28/28 [==============================] - 0s 4ms/step - loss: 0.0080 - val_loss: 0.0065\n",
      "Epoch 3/200\n",
      "19/28 [===================>..........] - ETA: 0s - loss: 0.0036\n",
      "Epoch 00003: val_loss improved from 0.00655 to 0.00386, saving model to model\\tmp_checkpoint.h5\n",
      "28/28 [==============================] - 0s 4ms/step - loss: 0.0035 - val_loss: 0.0039\n",
      "Epoch 4/200\n",
      "19/28 [===================>..........] - ETA: 0s - loss: 0.0030\n",
      "Epoch 00004: val_loss improved from 0.00386 to 0.00353, saving model to model\\tmp_checkpoint.h5\n",
      "28/28 [==============================] - 0s 4ms/step - loss: 0.0027 - val_loss: 0.0035\n",
      "Epoch 5/200\n",
      "19/28 [===================>..........] - ETA: 0s - loss: 0.0026\n",
      "Epoch 00005: val_loss improved from 0.00353 to 0.00320, saving model to model\\tmp_checkpoint.h5\n",
      "28/28 [==============================] - 0s 4ms/step - loss: 0.0024 - val_loss: 0.0032\n",
      "Epoch 6/200\n",
      "14/28 [==============>...............] - ETA: 0s - loss: 0.0026\n",
      "Epoch 00006: val_loss improved from 0.00320 to 0.00311, saving model to model\\tmp_checkpoint.h5\n",
      "28/28 [==============================] - 0s 4ms/step - loss: 0.0023 - val_loss: 0.0031\n",
      "Epoch 7/200\n",
      "19/28 [===================>..........] - ETA: 0s - loss: 0.0020\n",
      "Epoch 00007: val_loss improved from 0.00311 to 0.00264, saving model to model\\tmp_checkpoint.h5\n",
      "28/28 [==============================] - 0s 4ms/step - loss: 0.0020 - val_loss: 0.0026\n",
      "Epoch 8/200\n",
      "19/28 [===================>..........] - ETA: 0s - loss: 0.0019\n",
      "Epoch 00008: val_loss improved from 0.00264 to 0.00249, saving model to model\\tmp_checkpoint.h5\n",
      "28/28 [==============================] - 0s 4ms/step - loss: 0.0019 - val_loss: 0.0025\n",
      "Epoch 9/200\n",
      "18/28 [==================>...........] - ETA: 0s - loss: 0.0015\n",
      "Epoch 00009: val_loss improved from 0.00249 to 0.00223, saving model to model\\tmp_checkpoint.h5\n",
      "28/28 [==============================] - 0s 4ms/step - loss: 0.0017 - val_loss: 0.0022\n",
      "Epoch 10/200\n",
      "19/28 [===================>..........] - ETA: 0s - loss: 0.0021    \n",
      "Epoch 00010: val_loss improved from 0.00223 to 0.00220, saving model to model\\tmp_checkpoint.h5\n",
      "28/28 [==============================] - 0s 4ms/step - loss: 0.0019 - val_loss: 0.0022\n",
      "Epoch 11/200\n",
      "19/28 [===================>..........] - ETA: 0s - loss: 0.0017\n",
      "Epoch 00011: val_loss improved from 0.00220 to 0.00182, saving model to model\\tmp_checkpoint.h5\n",
      "28/28 [==============================] - 0s 4ms/step - loss: 0.0016 - val_loss: 0.0018\n",
      "Epoch 12/200\n",
      "18/28 [==================>...........] - ETA: 0s - loss: 0.0014\n",
      "Epoch 00012: val_loss improved from 0.00182 to 0.00177, saving model to model\\tmp_checkpoint.h5\n",
      "28/28 [==============================] - 0s 4ms/step - loss: 0.0015 - val_loss: 0.0018\n",
      "Epoch 13/200\n",
      "20/28 [====================>.........] - ETA: 0s - loss: 0.0013    \n",
      "Epoch 00013: val_loss improved from 0.00177 to 0.00155, saving model to model\\tmp_checkpoint.h5\n",
      "28/28 [==============================] - 0s 4ms/step - loss: 0.0014 - val_loss: 0.0016\n",
      "Epoch 14/200\n",
      "19/28 [===================>..........] - ETA: 0s - loss: 0.0014\n",
      "Epoch 00014: val_loss did not improve from 0.00155\n",
      "28/28 [==============================] - 0s 3ms/step - loss: 0.0013 - val_loss: 0.0016\n",
      "Epoch 15/200\n",
      "19/28 [===================>..........] - ETA: 0s - loss: 0.0013\n",
      "Epoch 00015: val_loss did not improve from 0.00155\n",
      "28/28 [==============================] - 0s 3ms/step - loss: 0.0012 - val_loss: 0.0017\n",
      "Epoch 16/200\n",
      "18/28 [==================>...........] - ETA: 0s - loss: 0.0013\n",
      "Epoch 00016: val_loss improved from 0.00155 to 0.00116, saving model to model\\tmp_checkpoint.h5\n",
      "28/28 [==============================] - 0s 4ms/step - loss: 0.0012 - val_loss: 0.0012\n",
      "Epoch 17/200\n",
      "18/28 [==================>...........] - ETA: 0s - loss: 0.0011    \n",
      "Epoch 00017: val_loss improved from 0.00116 to 0.00111, saving model to model\\tmp_checkpoint.h5\n",
      "28/28 [==============================] - 0s 4ms/step - loss: 0.0011 - val_loss: 0.0011\n",
      "Epoch 18/200\n",
      "18/28 [==================>...........] - ETA: 0s - loss: 0.0011\n",
      "Epoch 00018: val_loss improved from 0.00111 to 0.00097, saving model to model\\tmp_checkpoint.h5\n",
      "28/28 [==============================] - 0s 4ms/step - loss: 0.0011 - val_loss: 9.7312e-04\n",
      "Epoch 19/200\n",
      "16/28 [================>.............] - ETA: 0s - loss: 0.0012\n",
      "Epoch 00019: val_loss improved from 0.00097 to 0.00088, saving model to model\\tmp_checkpoint.h5\n",
      "28/28 [==============================] - 0s 4ms/step - loss: 0.0010 - val_loss: 8.8009e-04\n",
      "Epoch 20/200\n",
      "19/28 [===================>..........] - ETA: 0s - loss: 0.0010\n",
      "Epoch 00020: val_loss improved from 0.00088 to 0.00088, saving model to model\\tmp_checkpoint.h5\n",
      "28/28 [==============================] - 0s 4ms/step - loss: 0.0010 - val_loss: 8.7769e-04\n",
      "Epoch 21/200\n",
      "19/28 [===================>..........] - ETA: 0s - loss: 9.2684e-04\n",
      "Epoch 00021: val_loss improved from 0.00088 to 0.00081, saving model to model\\tmp_checkpoint.h5\n",
      "28/28 [==============================] - 0s 4ms/step - loss: 9.4639e-04 - val_loss: 8.0730e-04\n",
      "Epoch 22/200\n",
      "18/28 [==================>...........] - ETA: 0s - loss: 9.4454e-04\n",
      "Epoch 00022: val_loss did not improve from 0.00081\n",
      "28/28 [==============================] - 0s 4ms/step - loss: 9.2928e-04 - val_loss: 8.3932e-04\n",
      "Epoch 23/200\n",
      "18/28 [==================>...........] - ETA: 0s - loss: 9.4071e-04\n",
      "Epoch 00023: val_loss did not improve from 0.00081\n",
      "28/28 [==============================] - 0s 4ms/step - loss: 9.5412e-04 - val_loss: 0.0012\n",
      "Epoch 24/200\n",
      "19/28 [===================>..........] - ETA: 0s - loss: 9.5580e-04\n",
      "Epoch 00024: val_loss did not improve from 0.00081\n",
      "28/28 [==============================] - 0s 3ms/step - loss: 9.0815e-04 - val_loss: 8.4888e-04\n",
      "Epoch 25/200\n",
      "18/28 [==================>...........] - ETA: 0s - loss: 9.5184e-04\n",
      "Epoch 00025: val_loss improved from 0.00081 to 0.00074, saving model to model\\tmp_checkpoint.h5\n",
      "28/28 [==============================] - 0s 4ms/step - loss: 8.7952e-04 - val_loss: 7.4304e-04\n",
      "Epoch 26/200\n",
      "19/28 [===================>..........] - ETA: 0s - loss: 8.1216e-04\n",
      "Epoch 00026: val_loss did not improve from 0.00074\n",
      "28/28 [==============================] - 0s 3ms/step - loss: 8.9522e-04 - val_loss: 0.0011\n",
      "Epoch 27/200\n",
      "19/28 [===================>..........] - ETA: 0s - loss: 9.6346e-04\n",
      "Epoch 00027: val_loss did not improve from 0.00074\n",
      "28/28 [==============================] - 0s 3ms/step - loss: 9.5368e-04 - val_loss: 7.5559e-04\n",
      "Epoch 28/200\n",
      "19/28 [===================>..........] - ETA: 0s - loss: 8.9379e-04\n",
      "Epoch 00028: val_loss did not improve from 0.00074\n",
      "28/28 [==============================] - 0s 4ms/step - loss: 8.9148e-04 - val_loss: 8.4361e-04\n",
      "Epoch 29/200\n",
      "19/28 [===================>..........] - ETA: 0s - loss: 8.7768e-04\n",
      "Epoch 00029: val_loss did not improve from 0.00074\n",
      "28/28 [==============================] - 0s 3ms/step - loss: 8.7390e-04 - val_loss: 7.8202e-04\n",
      "Epoch 30/200\n",
      "18/28 [==================>...........] - ETA: 0s - loss: 8.2683e-04\n",
      "Epoch 00030: val_loss did not improve from 0.00074\n",
      "28/28 [==============================] - 0s 4ms/step - loss: 8.7349e-04 - val_loss: 7.4570e-04\n"
     ]
    }
   ],
   "source": [
    "import os\n",
    "\n",
    "model.compile(loss='mean_squared_error', optimizer='adam')\n",
    "early_stop = EarlyStopping(monitor='val_loss', patience=5)\n",
    "\n",
    "model_path = 'model'\n",
    "filename = os.path.join(model_path, 'tmp_checkpoint.h5')\n",
    "checkpoint = ModelCheckpoint(filename, monitor='val_loss', verbose=1, save_best_only=True, mode='auto')\n",
    "\n",
    "history = model.fit(x_train, y_train, \n",
    "                                    epochs=200, \n",
    "                                    batch_size=16,\n",
    "                                    validation_data=(x_valid, y_valid), \n",
    "                                    callbacks=[early_stop, checkpoint])"
   ]
  },
  {
   "cell_type": "code",
   "execution_count": 68,
   "id": "fc2aaf04-8d86-41fe-91b5-495e2be074af",
   "metadata": {
    "tags": []
   },
   "outputs": [
    {
     "data": {
      "text/plain": [
       "(180, 1)"
      ]
     },
     "execution_count": 68,
     "metadata": {},
     "output_type": "execute_result"
    }
   ],
   "source": [
    "model.load_weights(filename)\n",
    "pred = model.predict(test_feature)\n",
    "\n",
    "pred.shape"
   ]
  },
  {
   "cell_type": "code",
   "execution_count": 69,
   "id": "c65fb8d8-dd51-4ccd-95f4-d26ed7edc110",
   "metadata": {},
   "outputs": [
    {
     "data": {
      "image/png": "[encoded data removed]",
      "text/plain": [
       "<Figure size 864x648 with 1 Axes>"
      ]
     },
     "metadata": {
      "needs_background": "light"
     },
     "output_type": "display_data"
    }
   ],
   "source": [
    "plt.figure(figsize=(12, 9))\n",
    "plt.plot(test_label*1596226.725984511, label = 'actual')\n",
    "plt.plot(pred*1596226.725984511, label = 'prediction')\n",
    "plt.legend()\n",
    "plt.show()"
   ]
  },
  {
   "cell_type": "code",
   "execution_count": 71,
   "id": "e413eea1-741a-4aae-b0f1-242f7c00b580",
   "metadata": {},
   "outputs": [
    {
     "data": {
      "text/plain": [
       "array([1074282.], dtype=float32)"
      ]
     },
     "execution_count": 71,
     "metadata": {},
     "output_type": "execute_result"
    }
   ],
   "source": [
    "recent_price = pred[179] * 1596226.725984511\n",
    "recent_price"
   ]
  },
  {
   "cell_type": "code",
   "execution_count": 27,
   "id": "3f989452-c3a3-4bb3-ba1b-cfd9f81e7d0e",
   "metadata": {},
   "outputs": [
    {
     "ename": "ValueError",
     "evalue": "Found input variables with inconsistent numbers of samples: [30, 380]",
     "output_type": "error",
     "traceback": [
      "\u001b[1;31m---------------------------------------------------------------------------\u001b[0m",
      "\u001b[1;31mValueError\u001b[0m                                Traceback (most recent call last)",
      "\u001b[1;32m~\\AppData\\Local\\Temp/ipykernel_7560/1629724792.py\u001b[0m in \u001b[0;36m<module>\u001b[1;34m\u001b[0m\n\u001b[1;32m----> 1\u001b[1;33m \u001b[0mcm\u001b[0m \u001b[1;33m=\u001b[0m \u001b[0mconfusion_matrix\u001b[0m\u001b[1;33m(\u001b[0m\u001b[0my_train\u001b[0m\u001b[1;33m,\u001b[0m \u001b[0mpred\u001b[0m\u001b[1;33m)\u001b[0m\u001b[1;33m\u001b[0m\u001b[1;33m\u001b[0m\u001b[0m\n\u001b[0m",
      "\u001b[1;32m~\\anaconda3\\lib\\site-packages\\sklearn\\metrics\\_classification.py\u001b[0m in \u001b[0;36mconfusion_matrix\u001b[1;34m(y_true, y_pred, labels, sample_weight, normalize)\u001b[0m\n\u001b[0;32m    300\u001b[0m \u001b[1;33m\u001b[0m\u001b[0m\n\u001b[0;32m    301\u001b[0m     \"\"\"\n\u001b[1;32m--> 302\u001b[1;33m     \u001b[0my_type\u001b[0m\u001b[1;33m,\u001b[0m \u001b[0my_true\u001b[0m\u001b[1;33m,\u001b[0m \u001b[0my_pred\u001b[0m \u001b[1;33m=\u001b[0m \u001b[0m_check_targets\u001b[0m\u001b[1;33m(\u001b[0m\u001b[0my_true\u001b[0m\u001b[1;33m,\u001b[0m \u001b[0my_pred\u001b[0m\u001b[1;33m)\u001b[0m\u001b[1;33m\u001b[0m\u001b[1;33m\u001b[0m\u001b[0m\n\u001b[0m\u001b[0;32m    303\u001b[0m     \u001b[1;32mif\u001b[0m \u001b[0my_type\u001b[0m \u001b[1;32mnot\u001b[0m \u001b[1;32min\u001b[0m \u001b[1;33m(\u001b[0m\u001b[1;34m\"binary\"\u001b[0m\u001b[1;33m,\u001b[0m \u001b[1;34m\"multiclass\"\u001b[0m\u001b[1;33m)\u001b[0m\u001b[1;33m:\u001b[0m\u001b[1;33m\u001b[0m\u001b[1;33m\u001b[0m\u001b[0m\n\u001b[0;32m    304\u001b[0m         \u001b[1;32mraise\u001b[0m \u001b[0mValueError\u001b[0m\u001b[1;33m(\u001b[0m\u001b[1;34m\"%s is not supported\"\u001b[0m \u001b[1;33m%\u001b[0m \u001b[0my_type\u001b[0m\u001b[1;33m)\u001b[0m\u001b[1;33m\u001b[0m\u001b[1;33m\u001b[0m\u001b[0m\n",
      "\u001b[1;32m~\\anaconda3\\lib\\site-packages\\sklearn\\metrics\\_classification.py\u001b[0m in \u001b[0;36m_check_targets\u001b[1;34m(y_true, y_pred)\u001b[0m\n\u001b[0;32m     82\u001b[0m     \u001b[0my_pred\u001b[0m \u001b[1;33m:\u001b[0m \u001b[0marray\u001b[0m \u001b[1;32mor\u001b[0m \u001b[0mindicator\u001b[0m \u001b[0mmatrix\u001b[0m\u001b[1;33m\u001b[0m\u001b[1;33m\u001b[0m\u001b[0m\n\u001b[0;32m     83\u001b[0m     \"\"\"\n\u001b[1;32m---> 84\u001b[1;33m     \u001b[0mcheck_consistent_length\u001b[0m\u001b[1;33m(\u001b[0m\u001b[0my_true\u001b[0m\u001b[1;33m,\u001b[0m \u001b[0my_pred\u001b[0m\u001b[1;33m)\u001b[0m\u001b[1;33m\u001b[0m\u001b[1;33m\u001b[0m\u001b[0m\n\u001b[0m\u001b[0;32m     85\u001b[0m     \u001b[0mtype_true\u001b[0m \u001b[1;33m=\u001b[0m \u001b[0mtype_of_target\u001b[0m\u001b[1;33m(\u001b[0m\u001b[0my_true\u001b[0m\u001b[1;33m)\u001b[0m\u001b[1;33m\u001b[0m\u001b[1;33m\u001b[0m\u001b[0m\n\u001b[0;32m     86\u001b[0m     \u001b[0mtype_pred\u001b[0m \u001b[1;33m=\u001b[0m \u001b[0mtype_of_target\u001b[0m\u001b[1;33m(\u001b[0m\u001b[0my_pred\u001b[0m\u001b[1;33m)\u001b[0m\u001b[1;33m\u001b[0m\u001b[1;33m\u001b[0m\u001b[0m\n",
      "\u001b[1;32m~\\anaconda3\\lib\\site-packages\\sklearn\\utils\\validation.py\u001b[0m in \u001b[0;36mcheck_consistent_length\u001b[1;34m(*arrays)\u001b[0m\n\u001b[0;32m    329\u001b[0m     \u001b[0muniques\u001b[0m \u001b[1;33m=\u001b[0m \u001b[0mnp\u001b[0m\u001b[1;33m.\u001b[0m\u001b[0munique\u001b[0m\u001b[1;33m(\u001b[0m\u001b[0mlengths\u001b[0m\u001b[1;33m)\u001b[0m\u001b[1;33m\u001b[0m\u001b[1;33m\u001b[0m\u001b[0m\n\u001b[0;32m    330\u001b[0m     \u001b[1;32mif\u001b[0m \u001b[0mlen\u001b[0m\u001b[1;33m(\u001b[0m\u001b[0muniques\u001b[0m\u001b[1;33m)\u001b[0m \u001b[1;33m>\u001b[0m \u001b[1;36m1\u001b[0m\u001b[1;33m:\u001b[0m\u001b[1;33m\u001b[0m\u001b[1;33m\u001b[0m\u001b[0m\n\u001b[1;32m--> 331\u001b[1;33m         raise ValueError(\n\u001b[0m\u001b[0;32m    332\u001b[0m             \u001b[1;34m\"Found input variables with inconsistent numbers of samples: %r\"\u001b[0m\u001b[1;33m\u001b[0m\u001b[1;33m\u001b[0m\u001b[0m\n\u001b[0;32m    333\u001b[0m             \u001b[1;33m%\u001b[0m \u001b[1;33m[\u001b[0m\u001b[0mint\u001b[0m\u001b[1;33m(\u001b[0m\u001b[0ml\u001b[0m\u001b[1;33m)\u001b[0m \u001b[1;32mfor\u001b[0m \u001b[0ml\u001b[0m \u001b[1;32min\u001b[0m \u001b[0mlengths\u001b[0m\u001b[1;33m]\u001b[0m\u001b[1;33m\u001b[0m\u001b[1;33m\u001b[0m\u001b[0m\n",
      "\u001b[1;31mValueError\u001b[0m: Found input variables with inconsistent numbers of samples: [30, 380]"
     ]
    }
   ],
   "source": [
    "\n",
    "cm = confusion_matrix(y_train, pred)"
   ]
  },
  {
   "cell_type": "code",
   "execution_count": null,
   "id": "edfce7d0-3968-4b7e-965a-8e0c84d35725",
   "metadata": {},
   "outputs": [],
   "source": [
    "\n",
    "get_clf_eval(y,pred)"
   ]
  },
  {
   "cell_type": "code",
   "execution_count": null,
   "id": "565c487a-a018-4b5e-9231-687a149d7178",
   "metadata": {},
   "outputs": [],
   "source": [
    "y.shape"
   ]
  },
  {
   "cell_type": "code",
   "execution_count": null,
   "id": "42ffe10b-1ee2-46af-8b9b-aa99d0255e53",
   "metadata": {},
   "outputs": [],
   "source": []
  }
 ],
 "metadata": {
  "kernelspec": {
   "display_name": "Python 3 (ipykernel)",
   "language": "python",
   "name": "python3"
  },
  "language_info": {
   "codemirror_mode": {
    "name": "ipython",
    "version": 3
   },
   "file_extension": ".py",
   "mimetype": "text/x-python",
   "name": "python",
   "nbconvert_exporter": "python",
   "pygments_lexer": "ipython3",
   "version": "3.8.12"
  }
 },
 "nbformat": 4,
 "nbformat_minor": 5
}
